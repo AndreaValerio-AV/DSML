{
 "cells": [
  {
   "cell_type": "code",
   "execution_count": 42,
   "metadata": {},
   "outputs": [],
   "source": [
    "import pandas as pd\n",
    "import numpy as np\n",
    "import matplotlib.pyplot as plt\n",
    "import seaborn as sns\n",
    "from sklearn.preprocessing import MinMaxScaler\n",
    "from sklearn.impute import KNNImputer\n",
    "import numpy as np\n",
    "import matplotlib.pyplot as plt\n",
    "from sklearn.cluster import KMeans"
   ]
  },
  {
   "cell_type": "code",
   "execution_count": 43,
   "metadata": {},
   "outputs": [
    {
     "data": {
      "text/html": [
       "<div>\n",
       "<style scoped>\n",
       "    .dataframe tbody tr th:only-of-type {\n",
       "        vertical-align: middle;\n",
       "    }\n",
       "\n",
       "    .dataframe tbody tr th {\n",
       "        vertical-align: top;\n",
       "    }\n",
       "\n",
       "    .dataframe thead th {\n",
       "        text-align: right;\n",
       "    }\n",
       "</style>\n",
       "<table border=\"1\" class=\"dataframe\">\n",
       "  <thead>\n",
       "    <tr style=\"text-align: right;\">\n",
       "      <th></th>\n",
       "      <th>CustomerID</th>\n",
       "      <th>Date_Adherence</th>\n",
       "      <th>Recency</th>\n",
       "      <th>MntMeat&amp;Fish</th>\n",
       "      <th>MntEntries</th>\n",
       "      <th>MntVegan&amp;Vegetarian</th>\n",
       "      <th>MntDrinks</th>\n",
       "      <th>MntDesserts</th>\n",
       "      <th>MntAdditionalRequests</th>\n",
       "      <th>NumOfferPurchases</th>\n",
       "      <th>NumAppPurchases</th>\n",
       "      <th>NumTakeAwayPurchases</th>\n",
       "      <th>NumStorePurchases</th>\n",
       "      <th>NumAppVisitsMonth</th>\n",
       "      <th>Complain</th>\n",
       "    </tr>\n",
       "  </thead>\n",
       "  <tbody>\n",
       "    <tr>\n",
       "      <th>0</th>\n",
       "      <td>11054</td>\n",
       "      <td>2021-03-18 00:00:00</td>\n",
       "      <td>85.0</td>\n",
       "      <td>7230.0</td>\n",
       "      <td>1820</td>\n",
       "      <td>3435.0</td>\n",
       "      <td>1600.0</td>\n",
       "      <td>440.0</td>\n",
       "      <td>57.0</td>\n",
       "      <td>1</td>\n",
       "      <td>13</td>\n",
       "      <td>4</td>\n",
       "      <td>13</td>\n",
       "      <td>6</td>\n",
       "      <td>0</td>\n",
       "    </tr>\n",
       "    <tr>\n",
       "      <th>1</th>\n",
       "      <td>17117</td>\n",
       "      <td>2021-03-01 00:00:00</td>\n",
       "      <td>96.0</td>\n",
       "      <td>5850.0</td>\n",
       "      <td>320</td>\n",
       "      <td>2745.0</td>\n",
       "      <td>500.0</td>\n",
       "      <td>320.0</td>\n",
       "      <td>8.0</td>\n",
       "      <td>3</td>\n",
       "      <td>9</td>\n",
       "      <td>7</td>\n",
       "      <td>9</td>\n",
       "      <td>6</td>\n",
       "      <td>0</td>\n",
       "    </tr>\n",
       "    <tr>\n",
       "      <th>2</th>\n",
       "      <td>31751</td>\n",
       "      <td>2021-11-01 00:00:00</td>\n",
       "      <td>7.0</td>\n",
       "      <td>8380.0</td>\n",
       "      <td>0</td>\n",
       "      <td>1560.0</td>\n",
       "      <td>0.0</td>\n",
       "      <td>0.0</td>\n",
       "      <td>28.0</td>\n",
       "      <td>3</td>\n",
       "      <td>9</td>\n",
       "      <td>5</td>\n",
       "      <td>3</td>\n",
       "      <td>9</td>\n",
       "      <td>0</td>\n",
       "    </tr>\n",
       "    <tr>\n",
       "      <th>3</th>\n",
       "      <td>12947</td>\n",
       "      <td>2022-05-19 00:00:00</td>\n",
       "      <td>54.0</td>\n",
       "      <td>5090.0</td>\n",
       "      <td>280</td>\n",
       "      <td>2355.0</td>\n",
       "      <td>140.0</td>\n",
       "      <td>560.0</td>\n",
       "      <td>78.0</td>\n",
       "      <td>3</td>\n",
       "      <td>7</td>\n",
       "      <td>5</td>\n",
       "      <td>11</td>\n",
       "      <td>3</td>\n",
       "      <td>0</td>\n",
       "    </tr>\n",
       "    <tr>\n",
       "      <th>4</th>\n",
       "      <td>11402</td>\n",
       "      <td>2021-01-01 00:00:00</td>\n",
       "      <td>64.0</td>\n",
       "      <td>330.0</td>\n",
       "      <td>0</td>\n",
       "      <td>240.0</td>\n",
       "      <td>0.0</td>\n",
       "      <td>0.0</td>\n",
       "      <td>7.0</td>\n",
       "      <td>2</td>\n",
       "      <td>4</td>\n",
       "      <td>1</td>\n",
       "      <td>3</td>\n",
       "      <td>8</td>\n",
       "      <td>0</td>\n",
       "    </tr>\n",
       "    <tr>\n",
       "      <th>...</th>\n",
       "      <td>...</td>\n",
       "      <td>...</td>\n",
       "      <td>...</td>\n",
       "      <td>...</td>\n",
       "      <td>...</td>\n",
       "      <td>...</td>\n",
       "      <td>...</td>\n",
       "      <td>...</td>\n",
       "      <td>...</td>\n",
       "      <td>...</td>\n",
       "      <td>...</td>\n",
       "      <td>...</td>\n",
       "      <td>...</td>\n",
       "      <td>...</td>\n",
       "      <td>...</td>\n",
       "    </tr>\n",
       "    <tr>\n",
       "      <th>7003</th>\n",
       "      <td>23699</td>\n",
       "      <td>2021-11-27 00:00:00</td>\n",
       "      <td>54.0</td>\n",
       "      <td>290.0</td>\n",
       "      <td>20</td>\n",
       "      <td>180.0</td>\n",
       "      <td>0.0</td>\n",
       "      <td>40.0</td>\n",
       "      <td>4.0</td>\n",
       "      <td>2</td>\n",
       "      <td>4</td>\n",
       "      <td>1</td>\n",
       "      <td>4</td>\n",
       "      <td>7</td>\n",
       "      <td>0</td>\n",
       "    </tr>\n",
       "    <tr>\n",
       "      <th>7004</th>\n",
       "      <td>23255</td>\n",
       "      <td>2021-03-25 00:00:00</td>\n",
       "      <td>27.0</td>\n",
       "      <td>230.0</td>\n",
       "      <td>80</td>\n",
       "      <td>525.0</td>\n",
       "      <td>20.0</td>\n",
       "      <td>80.0</td>\n",
       "      <td>23.0</td>\n",
       "      <td>3</td>\n",
       "      <td>5</td>\n",
       "      <td>1</td>\n",
       "      <td>3</td>\n",
       "      <td>8</td>\n",
       "      <td>0</td>\n",
       "    </tr>\n",
       "    <tr>\n",
       "      <th>7005</th>\n",
       "      <td>5798</td>\n",
       "      <td>2022-04-12 00:00:00</td>\n",
       "      <td>36.0</td>\n",
       "      <td>3050.0</td>\n",
       "      <td>2460</td>\n",
       "      <td>3840.0</td>\n",
       "      <td>1800.0</td>\n",
       "      <td>980.0</td>\n",
       "      <td>107.0</td>\n",
       "      <td>1</td>\n",
       "      <td>8</td>\n",
       "      <td>4</td>\n",
       "      <td>13</td>\n",
       "      <td>4</td>\n",
       "      <td>0</td>\n",
       "    </tr>\n",
       "    <tr>\n",
       "      <th>7006</th>\n",
       "      <td>16577</td>\n",
       "      <td>2020-09-01 00:00:00</td>\n",
       "      <td>49.0</td>\n",
       "      <td>20.0</td>\n",
       "      <td>200</td>\n",
       "      <td>90.0</td>\n",
       "      <td>160.0</td>\n",
       "      <td>0.0</td>\n",
       "      <td>14.0</td>\n",
       "      <td>1</td>\n",
       "      <td>3</td>\n",
       "      <td>2</td>\n",
       "      <td>2</td>\n",
       "      <td>8</td>\n",
       "      <td>1</td>\n",
       "    </tr>\n",
       "    <tr>\n",
       "      <th>7007</th>\n",
       "      <td>25310</td>\n",
       "      <td>2020-12-05 00:00:00</td>\n",
       "      <td>74.0</td>\n",
       "      <td>160.0</td>\n",
       "      <td>100</td>\n",
       "      <td>180.0</td>\n",
       "      <td>680.0</td>\n",
       "      <td>80.0</td>\n",
       "      <td>13.0</td>\n",
       "      <td>3</td>\n",
       "      <td>3</td>\n",
       "      <td>2</td>\n",
       "      <td>4</td>\n",
       "      <td>4</td>\n",
       "      <td>0</td>\n",
       "    </tr>\n",
       "  </tbody>\n",
       "</table>\n",
       "<p>7008 rows × 15 columns</p>\n",
       "</div>"
      ],
      "text/plain": [
       "      CustomerID       Date_Adherence  Recency  MntMeat&Fish  MntEntries  \\\n",
       "0          11054  2021-03-18 00:00:00     85.0        7230.0        1820   \n",
       "1          17117  2021-03-01 00:00:00     96.0        5850.0         320   \n",
       "2          31751  2021-11-01 00:00:00      7.0        8380.0           0   \n",
       "3          12947  2022-05-19 00:00:00     54.0        5090.0         280   \n",
       "4          11402  2021-01-01 00:00:00     64.0         330.0           0   \n",
       "...          ...                  ...      ...           ...         ...   \n",
       "7003       23699  2021-11-27 00:00:00     54.0         290.0          20   \n",
       "7004       23255  2021-03-25 00:00:00     27.0         230.0          80   \n",
       "7005        5798  2022-04-12 00:00:00     36.0        3050.0        2460   \n",
       "7006       16577  2020-09-01 00:00:00     49.0          20.0         200   \n",
       "7007       25310  2020-12-05 00:00:00     74.0         160.0         100   \n",
       "\n",
       "      MntVegan&Vegetarian  MntDrinks  MntDesserts  MntAdditionalRequests  \\\n",
       "0                  3435.0     1600.0        440.0                   57.0   \n",
       "1                  2745.0      500.0        320.0                    8.0   \n",
       "2                  1560.0        0.0          0.0                   28.0   \n",
       "3                  2355.0      140.0        560.0                   78.0   \n",
       "4                   240.0        0.0          0.0                    7.0   \n",
       "...                   ...        ...          ...                    ...   \n",
       "7003                180.0        0.0         40.0                    4.0   \n",
       "7004                525.0       20.0         80.0                   23.0   \n",
       "7005               3840.0     1800.0        980.0                  107.0   \n",
       "7006                 90.0      160.0          0.0                   14.0   \n",
       "7007                180.0      680.0         80.0                   13.0   \n",
       "\n",
       "      NumOfferPurchases  NumAppPurchases  NumTakeAwayPurchases  \\\n",
       "0                     1               13                     4   \n",
       "1                     3                9                     7   \n",
       "2                     3                9                     5   \n",
       "3                     3                7                     5   \n",
       "4                     2                4                     1   \n",
       "...                 ...              ...                   ...   \n",
       "7003                  2                4                     1   \n",
       "7004                  3                5                     1   \n",
       "7005                  1                8                     4   \n",
       "7006                  1                3                     2   \n",
       "7007                  3                3                     2   \n",
       "\n",
       "      NumStorePurchases  NumAppVisitsMonth  Complain  \n",
       "0                    13                  6         0  \n",
       "1                     9                  6         0  \n",
       "2                     3                  9         0  \n",
       "3                    11                  3         0  \n",
       "4                     3                  8         0  \n",
       "...                 ...                ...       ...  \n",
       "7003                  4                  7         0  \n",
       "7004                  3                  8         0  \n",
       "7005                 13                  4         0  \n",
       "7006                  2                  8         1  \n",
       "7007                  4                  4         0  \n",
       "\n",
       "[7008 rows x 15 columns]"
      ]
     },
     "execution_count": 43,
     "metadata": {},
     "output_type": "execute_result"
    }
   ],
   "source": [
    "sales = pd.read_excel('sales.xlsx')\n",
    "sales"
   ]
  },
  {
   "cell_type": "code",
   "execution_count": 44,
   "metadata": {},
   "outputs": [],
   "source": [
    "sales.set_index ('CustomerID', inplace = True)"
   ]
  },
  {
   "cell_type": "code",
   "execution_count": 45,
   "metadata": {},
   "outputs": [],
   "source": [
    "#check for duplicates \n",
    "#sales [sales.duplicated()]\n",
    "sales.drop_duplicates(inplace= True)"
   ]
  },
  {
   "cell_type": "code",
   "execution_count": 46,
   "metadata": {},
   "outputs": [
    {
     "data": {
      "text/plain": [
       "(7000, 14)"
      ]
     },
     "execution_count": 46,
     "metadata": {},
     "output_type": "execute_result"
    }
   ],
   "source": [
    "sales.shape"
   ]
  },
  {
   "cell_type": "code",
   "execution_count": 47,
   "metadata": {},
   "outputs": [],
   "source": [
    "#Impute MntDrinks\n",
    "\n",
    "sales_products = sales[['MntDrinks','MntDesserts','MntEntries','MntVegan&Vegetarian']] # we are using this variables to impute in drinks because they have a corr>0.7\n",
    "\n",
    "imputer = KNNImputer(n_neighbors=1)\n",
    "array_impute = imputer.fit_transform(sales_products) # this is an array\n",
    "sales_products = pd.DataFrame(array_impute, columns = sales_products.columns)\n",
    "\n",
    "sales['MntDrinks'] = sales_products['MntDrinks'].values"
   ]
  },
  {
   "cell_type": "code",
   "execution_count": 48,
   "metadata": {},
   "outputs": [],
   "source": [
    "#Input recency com a média\n",
    "sales.fillna({'Recency': sales['Recency'].mean}, inplace = True)"
   ]
  },
  {
   "cell_type": "code",
   "execution_count": 49,
   "metadata": {},
   "outputs": [],
   "source": [
    "#sales.isna().sum()"
   ]
  },
  {
   "cell_type": "markdown",
   "metadata": {},
   "source": [
    "INFO : 6 float variables; 8 integer variables; 1 object variable"
   ]
  },
  {
   "cell_type": "code",
   "execution_count": 50,
   "metadata": {},
   "outputs": [
    {
     "name": "stdout",
     "output_type": "stream",
     "text": [
      "<class 'pandas.core.frame.DataFrame'>\n",
      "Int64Index: 7000 entries, 11054 to 25310\n",
      "Data columns (total 14 columns):\n",
      " #   Column                 Non-Null Count  Dtype  \n",
      "---  ------                 --------------  -----  \n",
      " 0   Date_Adherence         7000 non-null   object \n",
      " 1   Recency                7000 non-null   object \n",
      " 2   MntMeat&Fish           7000 non-null   float64\n",
      " 3   MntEntries             7000 non-null   int64  \n",
      " 4   MntVegan&Vegetarian    7000 non-null   float64\n",
      " 5   MntDrinks              7000 non-null   float64\n",
      " 6   MntDesserts            7000 non-null   float64\n",
      " 7   MntAdditionalRequests  7000 non-null   float64\n",
      " 8   NumOfferPurchases      7000 non-null   int64  \n",
      " 9   NumAppPurchases        7000 non-null   int64  \n",
      " 10  NumTakeAwayPurchases   7000 non-null   int64  \n",
      " 11  NumStorePurchases      7000 non-null   int64  \n",
      " 12  NumAppVisitsMonth      7000 non-null   int64  \n",
      " 13  Complain               7000 non-null   int64  \n",
      "dtypes: float64(5), int64(7), object(2)\n",
      "memory usage: 820.3+ KB\n"
     ]
    }
   ],
   "source": [
    "#recency está em object tem de passar para integer\n",
    "#sales[\"Recency\"] = sales[\"Recency\"].astype(str).astype(float)\n",
    "sales.info()"
   ]
  },
  {
   "cell_type": "markdown",
   "metadata": {},
   "source": [
    "## Outliers"
   ]
  },
  {
   "cell_type": "code",
   "execution_count": 51,
   "metadata": {},
   "outputs": [],
   "source": [
    "#sales.hist(sales['Recency'])\n",
    "#sns.histplot(data = sales, x = 'Recency', color=\"g\", bins = 10)"
   ]
  },
  {
   "cell_type": "markdown",
   "metadata": {},
   "source": [
    "## Clusters - Perspectiva preferência pela via de consumo (APP,TK AWAY, STORE)"
   ]
  },
  {
   "cell_type": "markdown",
   "metadata": {},
   "source": [
    "Identify the right number of clusters"
   ]
  },
  {
   "cell_type": "code",
   "execution_count": 52,
   "metadata": {},
   "outputs": [
    {
     "data": {
      "text/html": [
       "<div>\n",
       "<style scoped>\n",
       "    .dataframe tbody tr th:only-of-type {\n",
       "        vertical-align: middle;\n",
       "    }\n",
       "\n",
       "    .dataframe tbody tr th {\n",
       "        vertical-align: top;\n",
       "    }\n",
       "\n",
       "    .dataframe thead th {\n",
       "        text-align: right;\n",
       "    }\n",
       "</style>\n",
       "<table border=\"1\" class=\"dataframe\">\n",
       "  <thead>\n",
       "    <tr style=\"text-align: right;\">\n",
       "      <th></th>\n",
       "      <th>NumAppPurchases</th>\n",
       "      <th>NumTakeAwayPurchases</th>\n",
       "      <th>NumStorePurchases</th>\n",
       "    </tr>\n",
       "    <tr>\n",
       "      <th>CustomerID</th>\n",
       "      <th></th>\n",
       "      <th></th>\n",
       "      <th></th>\n",
       "    </tr>\n",
       "  </thead>\n",
       "  <tbody>\n",
       "    <tr>\n",
       "      <th>11054</th>\n",
       "      <td>13</td>\n",
       "      <td>4</td>\n",
       "      <td>13</td>\n",
       "    </tr>\n",
       "    <tr>\n",
       "      <th>17117</th>\n",
       "      <td>9</td>\n",
       "      <td>7</td>\n",
       "      <td>9</td>\n",
       "    </tr>\n",
       "    <tr>\n",
       "      <th>31751</th>\n",
       "      <td>9</td>\n",
       "      <td>5</td>\n",
       "      <td>3</td>\n",
       "    </tr>\n",
       "    <tr>\n",
       "      <th>12947</th>\n",
       "      <td>7</td>\n",
       "      <td>5</td>\n",
       "      <td>11</td>\n",
       "    </tr>\n",
       "    <tr>\n",
       "      <th>11402</th>\n",
       "      <td>4</td>\n",
       "      <td>1</td>\n",
       "      <td>3</td>\n",
       "    </tr>\n",
       "    <tr>\n",
       "      <th>...</th>\n",
       "      <td>...</td>\n",
       "      <td>...</td>\n",
       "      <td>...</td>\n",
       "    </tr>\n",
       "    <tr>\n",
       "      <th>23699</th>\n",
       "      <td>4</td>\n",
       "      <td>1</td>\n",
       "      <td>4</td>\n",
       "    </tr>\n",
       "    <tr>\n",
       "      <th>23255</th>\n",
       "      <td>5</td>\n",
       "      <td>1</td>\n",
       "      <td>3</td>\n",
       "    </tr>\n",
       "    <tr>\n",
       "      <th>5798</th>\n",
       "      <td>8</td>\n",
       "      <td>4</td>\n",
       "      <td>13</td>\n",
       "    </tr>\n",
       "    <tr>\n",
       "      <th>16577</th>\n",
       "      <td>3</td>\n",
       "      <td>2</td>\n",
       "      <td>2</td>\n",
       "    </tr>\n",
       "    <tr>\n",
       "      <th>25310</th>\n",
       "      <td>3</td>\n",
       "      <td>2</td>\n",
       "      <td>4</td>\n",
       "    </tr>\n",
       "  </tbody>\n",
       "</table>\n",
       "<p>7000 rows × 3 columns</p>\n",
       "</div>"
      ],
      "text/plain": [
       "            NumAppPurchases  NumTakeAwayPurchases  NumStorePurchases\n",
       "CustomerID                                                          \n",
       "11054                    13                     4                 13\n",
       "17117                     9                     7                  9\n",
       "31751                     9                     5                  3\n",
       "12947                     7                     5                 11\n",
       "11402                     4                     1                  3\n",
       "...                     ...                   ...                ...\n",
       "23699                     4                     1                  4\n",
       "23255                     5                     1                  3\n",
       "5798                      8                     4                 13\n",
       "16577                     3                     2                  2\n",
       "25310                     3                     2                  4\n",
       "\n",
       "[7000 rows x 3 columns]"
      ]
     },
     "execution_count": 52,
     "metadata": {},
     "output_type": "execute_result"
    }
   ],
   "source": [
    "#Criar subset com as variáveis que vão contribuir para os clusters\n",
    "sales_vc = sales[[ 'NumAppPurchases','NumTakeAwayPurchases', 'NumStorePurchases',]].copy()\n",
    "sales_vc"
   ]
  },
  {
   "cell_type": "code",
   "execution_count": 85,
   "metadata": {},
   "outputs": [],
   "source": [
    "from scipy.stats import mode"
   ]
  },
  {
   "cell_type": "code",
   "execution_count": 90,
   "metadata": {},
   "outputs": [
    {
     "name": "stdout",
     "output_type": "stream",
     "text": [
      "Collecting kmodes\n",
      "  Downloading kmodes-0.12.2-py2.py3-none-any.whl (20 kB)\n",
      "Requirement already satisfied: scikit-learn>=0.22.0 in /Users/jp/opt/anaconda3/lib/python3.9/site-packages (from kmodes) (1.0.2)\n",
      "Requirement already satisfied: scipy>=0.13.3 in /Users/jp/opt/anaconda3/lib/python3.9/site-packages (from kmodes) (1.9.1)\n",
      "Requirement already satisfied: numpy>=1.10.4 in /Users/jp/opt/anaconda3/lib/python3.9/site-packages (from kmodes) (1.21.5)\n",
      "Requirement already satisfied: joblib>=0.11 in /Users/jp/opt/anaconda3/lib/python3.9/site-packages (from kmodes) (1.1.0)\n",
      "Requirement already satisfied: threadpoolctl>=2.0.0 in /Users/jp/opt/anaconda3/lib/python3.9/site-packages (from scikit-learn>=0.22.0->kmodes) (2.2.0)\n",
      "Installing collected packages: kmodes\n",
      "Successfully installed kmodes-0.12.2\n",
      "Note: you may need to restart the kernel to use updated packages.\n"
     ]
    }
   ],
   "source": [
    "pip install kmodes"
   ]
  },
  {
   "cell_type": "code",
   "execution_count": 91,
   "metadata": {},
   "outputs": [],
   "source": [
    "from kmodes.kmodes import KModes"
   ]
  },
  {
   "cell_type": "code",
   "execution_count": 54,
   "metadata": {},
   "outputs": [],
   "source": [
    "ks = range(1, 11)\n",
    "inertias = []\n",
    "\n",
    "for k in ks:\n",
    "    model = KMeans(n_clusters=k).fit(sales_vc)\n",
    "    inertias.append(model.inertia_)"
   ]
  },
  {
   "cell_type": "code",
   "execution_count": 55,
   "metadata": {},
   "outputs": [
    {
     "data": {
      "image/png": "[encoded data removed]",
      "text/plain": [
       "<Figure size 640x480 with 1 Axes>"
      ]
     },
     "metadata": {},
     "output_type": "display_data"
    }
   ],
   "source": [
    "# Plot ks (x-axis) vs inertias (y-axis) using plt.plot(). \n",
    "plt.plot(ks, inertias)\n",
    "\n",
    "# define the label for the x axis as 'number of clusters' using matplotlib.pyplot.xlabel\n",
    "plt.xlabel('number of clusters')\n",
    "# define the label for the y axis as 'inertia' using matplotlib.pyplot.ylabel\n",
    "plt.ylabel('inertia')\n",
    "# define the ticks on the x axis using the values of ks\n",
    "plt.xticks(ks)\n",
    "# call plt.show()\n",
    "plt.show()"
   ]
  },
  {
   "cell_type": "code",
   "execution_count": 56,
   "metadata": {},
   "outputs": [
    {
     "data": {
      "image/png": "[encoded data removed]",
      "text/plain": [
       "<Figure size 640x480 with 1 Axes>"
      ]
     },
     "metadata": {},
     "output_type": "display_data"
    }
   ],
   "source": [
    "from sklearn.cluster import KMeans\n",
    "from sklearn.metrics import silhouette_score\n",
    "import matplotlib.pyplot as plt\n",
    "\n",
    "range_n_clusters = [2, 3, 4, 5, 6, 7]\n",
    "silhouette_avg = []\n",
    "for num_clusters in range_n_clusters:\n",
    "\n",
    "    # initialise kmeans\n",
    "    kmeans = KMeans(n_clusters=num_clusters)\n",
    "    kmeans.fit(sales_vc)\n",
    "    cluster_labels = kmeans.labels_\n",
    "\n",
    "    # silhouette score\n",
    "    silhouette_avg.append(silhouette_score(sales_vc, cluster_labels))\n",
    "\n",
    "plt.plot(range_n_clusters, silhouette_avg, 'bx-')\n",
    "plt.xlabel('Values of K') \n",
    "plt.ylabel('Silhouette score') \n",
    "plt.title('Silhouette analysis For Optimal k')\n",
    "plt.show()"
   ]
  },
  {
   "cell_type": "markdown",
   "metadata": {},
   "source": [
    "The optimal K with the Silhouette method is 2! \n",
    "\n",
    "The silhouette coefficient or silhouette score kmeans is a measure of how similar a data point is within-cluster (cohesion) compared to other clusters (separation). \n",
    "https://www.analyticsvidhya.com/blog/2021/05/k-mean-getting-the-optimal-number-of-clusters/\n",
    "\n",
    "Testar K= 2; 3; 5 "
   ]
  },
  {
   "cell_type": "code",
   "execution_count": 57,
   "metadata": {},
   "outputs": [
    {
     "data": {
      "image/png": "[encoded data removed]",
      "text/plain": [
       "<Figure size 800x600 with 1 Axes>"
      ]
     },
     "metadata": {},
     "output_type": "display_data"
    }
   ],
   "source": [
    "    from scipy.cluster import hierarchy\n",
    "#from sklearn.cluster import AgglomerativeClustering - The option available in sklearn\n",
    "\n",
    "# Get a random sample, as hierarchical clustering can take a lot of time to run.\n",
    "sales_vc_sample = sales_vc.sample(n = 1000, random_state = 100)\n",
    "\n",
    "# create clusters using the \"ward method\"\n",
    "clusters = hierarchy.linkage(sales_vc_sample , method=\"ward\")\n",
    "\n",
    "# create the dendrogram using the hierarchy.dendrogram() method.\n",
    "plt.figure(figsize=(8, 6))\n",
    "dendrogram = hierarchy.dendrogram(clusters)"
   ]
  },
  {
   "cell_type": "markdown",
   "metadata": {},
   "source": [
    "## 2 Clusters (K=2)"
   ]
  },
  {
   "cell_type": "code",
   "execution_count": 58,
   "metadata": {},
   "outputs": [],
   "source": [
    "sales_vc_k2 = sales_vc.copy()\n",
    "model_k2 = KMeans(n_clusters=2, random_state = 100).fit(sales_vc_k2)"
   ]
  },
  {
   "cell_type": "code",
   "execution_count": 59,
   "metadata": {},
   "outputs": [],
   "source": [
    "sales_vc_k2['k_label'] = model_k2.labels_"
   ]
  },
  {
   "cell_type": "code",
   "execution_count": 60,
   "metadata": {},
   "outputs": [
    {
     "data": {
      "text/html": [
       "<div>\n",
       "<style scoped>\n",
       "    .dataframe tbody tr th:only-of-type {\n",
       "        vertical-align: middle;\n",
       "    }\n",
       "\n",
       "    .dataframe tbody tr th {\n",
       "        vertical-align: top;\n",
       "    }\n",
       "\n",
       "    .dataframe thead th {\n",
       "        text-align: right;\n",
       "    }\n",
       "</style>\n",
       "<table border=\"1\" class=\"dataframe\">\n",
       "  <thead>\n",
       "    <tr style=\"text-align: right;\">\n",
       "      <th>k_label</th>\n",
       "      <th>0</th>\n",
       "      <th>1</th>\n",
       "    </tr>\n",
       "  </thead>\n",
       "  <tbody>\n",
       "    <tr>\n",
       "      <th>NumAppPurchases</th>\n",
       "      <td>4.311242</td>\n",
       "      <td>7.795853</td>\n",
       "    </tr>\n",
       "    <tr>\n",
       "      <th>NumTakeAwayPurchases</th>\n",
       "      <td>1.693512</td>\n",
       "      <td>6.070678</td>\n",
       "    </tr>\n",
       "    <tr>\n",
       "      <th>NumStorePurchases</th>\n",
       "      <td>3.372763</td>\n",
       "      <td>8.315713</td>\n",
       "    </tr>\n",
       "  </tbody>\n",
       "</table>\n",
       "</div>"
      ],
      "text/plain": [
       "k_label                      0         1\n",
       "NumAppPurchases       4.311242  7.795853\n",
       "NumTakeAwayPurchases  1.693512  6.070678\n",
       "NumStorePurchases     3.372763  8.315713"
      ]
     },
     "execution_count": 60,
     "metadata": {},
     "output_type": "execute_result"
    }
   ],
   "source": [
    "sales_vc_k2.groupby(['k_label']).mean().transpose()"
   ]
  },
  {
   "cell_type": "code",
   "execution_count": 61,
   "metadata": {},
   "outputs": [
    {
     "data": {
      "text/html": [
       "<div>\n",
       "<style scoped>\n",
       "    .dataframe tbody tr th:only-of-type {\n",
       "        vertical-align: middle;\n",
       "    }\n",
       "\n",
       "    .dataframe tbody tr th {\n",
       "        vertical-align: top;\n",
       "    }\n",
       "\n",
       "    .dataframe thead th {\n",
       "        text-align: right;\n",
       "    }\n",
       "</style>\n",
       "<table border=\"1\" class=\"dataframe\">\n",
       "  <thead>\n",
       "    <tr style=\"text-align: right;\">\n",
       "      <th></th>\n",
       "      <th>k_label</th>\n",
       "      <th>0</th>\n",
       "      <th>1</th>\n",
       "    </tr>\n",
       "  </thead>\n",
       "  <tbody>\n",
       "    <tr>\n",
       "      <th rowspan=\"8\" valign=\"top\">NumAppPurchases</th>\n",
       "      <th>count</th>\n",
       "      <td>3576.000000</td>\n",
       "      <td>3424.000000</td>\n",
       "    </tr>\n",
       "    <tr>\n",
       "      <th>mean</th>\n",
       "      <td>4.311242</td>\n",
       "      <td>7.795853</td>\n",
       "    </tr>\n",
       "    <tr>\n",
       "      <th>std</th>\n",
       "      <td>1.645387</td>\n",
       "      <td>2.525956</td>\n",
       "    </tr>\n",
       "    <tr>\n",
       "      <th>min</th>\n",
       "      <td>0.000000</td>\n",
       "      <td>0.000000</td>\n",
       "    </tr>\n",
       "    <tr>\n",
       "      <th>25%</th>\n",
       "      <td>3.000000</td>\n",
       "      <td>6.000000</td>\n",
       "    </tr>\n",
       "    <tr>\n",
       "      <th>50%</th>\n",
       "      <td>4.000000</td>\n",
       "      <td>8.000000</td>\n",
       "    </tr>\n",
       "    <tr>\n",
       "      <th>75%</th>\n",
       "      <td>5.000000</td>\n",
       "      <td>10.000000</td>\n",
       "    </tr>\n",
       "    <tr>\n",
       "      <th>max</th>\n",
       "      <td>11.000000</td>\n",
       "      <td>13.000000</td>\n",
       "    </tr>\n",
       "    <tr>\n",
       "      <th rowspan=\"8\" valign=\"top\">NumTakeAwayPurchases</th>\n",
       "      <th>count</th>\n",
       "      <td>3576.000000</td>\n",
       "      <td>3424.000000</td>\n",
       "    </tr>\n",
       "    <tr>\n",
       "      <th>mean</th>\n",
       "      <td>1.693512</td>\n",
       "      <td>6.070678</td>\n",
       "    </tr>\n",
       "    <tr>\n",
       "      <th>std</th>\n",
       "      <td>0.961655</td>\n",
       "      <td>3.454343</td>\n",
       "    </tr>\n",
       "    <tr>\n",
       "      <th>min</th>\n",
       "      <td>0.000000</td>\n",
       "      <td>2.000000</td>\n",
       "    </tr>\n",
       "    <tr>\n",
       "      <th>25%</th>\n",
       "      <td>1.000000</td>\n",
       "      <td>4.000000</td>\n",
       "    </tr>\n",
       "    <tr>\n",
       "      <th>50%</th>\n",
       "      <td>1.000000</td>\n",
       "      <td>5.000000</td>\n",
       "    </tr>\n",
       "    <tr>\n",
       "      <th>75%</th>\n",
       "      <td>2.000000</td>\n",
       "      <td>8.000000</td>\n",
       "    </tr>\n",
       "    <tr>\n",
       "      <th>max</th>\n",
       "      <td>7.000000</td>\n",
       "      <td>24.000000</td>\n",
       "    </tr>\n",
       "    <tr>\n",
       "      <th rowspan=\"8\" valign=\"top\">NumStorePurchases</th>\n",
       "      <th>count</th>\n",
       "      <td>3576.000000</td>\n",
       "      <td>3424.000000</td>\n",
       "    </tr>\n",
       "    <tr>\n",
       "      <th>mean</th>\n",
       "      <td>3.372763</td>\n",
       "      <td>8.315713</td>\n",
       "    </tr>\n",
       "    <tr>\n",
       "      <th>std</th>\n",
       "      <td>1.282928</td>\n",
       "      <td>2.829239</td>\n",
       "    </tr>\n",
       "    <tr>\n",
       "      <th>min</th>\n",
       "      <td>0.000000</td>\n",
       "      <td>0.000000</td>\n",
       "    </tr>\n",
       "    <tr>\n",
       "      <th>25%</th>\n",
       "      <td>3.000000</td>\n",
       "      <td>6.000000</td>\n",
       "    </tr>\n",
       "    <tr>\n",
       "      <th>50%</th>\n",
       "      <td>3.000000</td>\n",
       "      <td>8.000000</td>\n",
       "    </tr>\n",
       "    <tr>\n",
       "      <th>75%</th>\n",
       "      <td>4.000000</td>\n",
       "      <td>11.000000</td>\n",
       "    </tr>\n",
       "    <tr>\n",
       "      <th>max</th>\n",
       "      <td>8.000000</td>\n",
       "      <td>13.000000</td>\n",
       "    </tr>\n",
       "  </tbody>\n",
       "</table>\n",
       "</div>"
      ],
      "text/plain": [
       "k_label                               0            1\n",
       "NumAppPurchases      count  3576.000000  3424.000000\n",
       "                     mean      4.311242     7.795853\n",
       "                     std       1.645387     2.525956\n",
       "                     min       0.000000     0.000000\n",
       "                     25%       3.000000     6.000000\n",
       "                     50%       4.000000     8.000000\n",
       "                     75%       5.000000    10.000000\n",
       "                     max      11.000000    13.000000\n",
       "NumTakeAwayPurchases count  3576.000000  3424.000000\n",
       "                     mean      1.693512     6.070678\n",
       "                     std       0.961655     3.454343\n",
       "                     min       0.000000     2.000000\n",
       "                     25%       1.000000     4.000000\n",
       "                     50%       1.000000     5.000000\n",
       "                     75%       2.000000     8.000000\n",
       "                     max       7.000000    24.000000\n",
       "NumStorePurchases    count  3576.000000  3424.000000\n",
       "                     mean      3.372763     8.315713\n",
       "                     std       1.282928     2.829239\n",
       "                     min       0.000000     0.000000\n",
       "                     25%       3.000000     6.000000\n",
       "                     50%       3.000000     8.000000\n",
       "                     75%       4.000000    11.000000\n",
       "                     max       8.000000    13.000000"
      ]
     },
     "execution_count": 61,
     "metadata": {},
     "output_type": "execute_result"
    }
   ],
   "source": [
    "sales_vc_k2.groupby(['k_label']).describe().transpose()"
   ]
  },
  {
   "cell_type": "code",
   "execution_count": null,
   "metadata": {},
   "outputs": [],
   "source": []
  },
  {
   "cell_type": "markdown",
   "metadata": {},
   "source": [
    "## 3 Clusters (K=3) "
   ]
  },
  {
   "cell_type": "code",
   "execution_count": 62,
   "metadata": {},
   "outputs": [],
   "source": [
    "sales_vc_k3 = sales_vc.copy()\n",
    "model_k3 = KMeans(n_clusters=3, random_state = 100).fit(sales_vc_k3)"
   ]
  },
  {
   "cell_type": "code",
   "execution_count": 63,
   "metadata": {},
   "outputs": [],
   "source": [
    "sales_vc_k3['k_label'] = model_k3.labels_"
   ]
  },
  {
   "cell_type": "code",
   "execution_count": 64,
   "metadata": {},
   "outputs": [
    {
     "data": {
      "text/html": [
       "<div>\n",
       "<style scoped>\n",
       "    .dataframe tbody tr th:only-of-type {\n",
       "        vertical-align: middle;\n",
       "    }\n",
       "\n",
       "    .dataframe tbody tr th {\n",
       "        vertical-align: top;\n",
       "    }\n",
       "\n",
       "    .dataframe thead th {\n",
       "        text-align: right;\n",
       "    }\n",
       "</style>\n",
       "<table border=\"1\" class=\"dataframe\">\n",
       "  <thead>\n",
       "    <tr style=\"text-align: right;\">\n",
       "      <th>k_label</th>\n",
       "      <th>0</th>\n",
       "      <th>1</th>\n",
       "      <th>2</th>\n",
       "    </tr>\n",
       "  </thead>\n",
       "  <tbody>\n",
       "    <tr>\n",
       "      <th>NumAppPurchases</th>\n",
       "      <td>8.305284</td>\n",
       "      <td>4.137574</td>\n",
       "      <td>6.483568</td>\n",
       "    </tr>\n",
       "    <tr>\n",
       "      <th>NumTakeAwayPurchases</th>\n",
       "      <td>4.243836</td>\n",
       "      <td>1.653254</td>\n",
       "      <td>9.775587</td>\n",
       "    </tr>\n",
       "    <tr>\n",
       "      <th>NumStorePurchases</th>\n",
       "      <td>8.486106</td>\n",
       "      <td>3.237278</td>\n",
       "      <td>7.427230</td>\n",
       "    </tr>\n",
       "  </tbody>\n",
       "</table>\n",
       "</div>"
      ],
      "text/plain": [
       "k_label                      0         1         2\n",
       "NumAppPurchases       8.305284  4.137574  6.483568\n",
       "NumTakeAwayPurchases  4.243836  1.653254  9.775587\n",
       "NumStorePurchases     8.486106  3.237278  7.427230"
      ]
     },
     "execution_count": 64,
     "metadata": {},
     "output_type": "execute_result"
    }
   ],
   "source": [
    "sales_vc_k3.groupby(['k_label']).mean().transpose()"
   ]
  },
  {
   "cell_type": "markdown",
   "metadata": {},
   "source": [
    "Ordem de grandeza do clusters (n.º de individuos) : 2 < 0 < 1 \n",
    "\n",
    "- C0 compra mais na app e na loja (grupo de clientes regulares)\n",
    "- C1 é o que tem mais gentes mas o que consome menos (clientes não regulares)\n",
    "- C2 compra mais no TK Away, mas o cluster que consome mais no geral (grupo de clientes regulares que previligiam o TK Away)\n"
   ]
  },
  {
   "cell_type": "code",
   "execution_count": 65,
   "metadata": {},
   "outputs": [
    {
     "data": {
      "text/html": [
       "<div>\n",
       "<style scoped>\n",
       "    .dataframe tbody tr th:only-of-type {\n",
       "        vertical-align: middle;\n",
       "    }\n",
       "\n",
       "    .dataframe tbody tr th {\n",
       "        vertical-align: top;\n",
       "    }\n",
       "\n",
       "    .dataframe thead th {\n",
       "        text-align: right;\n",
       "    }\n",
       "</style>\n",
       "<table border=\"1\" class=\"dataframe\">\n",
       "  <thead>\n",
       "    <tr style=\"text-align: right;\">\n",
       "      <th></th>\n",
       "      <th>k_label</th>\n",
       "      <th>0</th>\n",
       "      <th>1</th>\n",
       "      <th>2</th>\n",
       "    </tr>\n",
       "  </thead>\n",
       "  <tbody>\n",
       "    <tr>\n",
       "      <th rowspan=\"8\" valign=\"top\">NumAppPurchases</th>\n",
       "      <th>count</th>\n",
       "      <td>2555.000000</td>\n",
       "      <td>3380.000000</td>\n",
       "      <td>1065.000000</td>\n",
       "    </tr>\n",
       "    <tr>\n",
       "      <th>mean</th>\n",
       "      <td>8.305284</td>\n",
       "      <td>4.137574</td>\n",
       "      <td>6.483568</td>\n",
       "    </tr>\n",
       "    <tr>\n",
       "      <th>std</th>\n",
       "      <td>2.328695</td>\n",
       "      <td>1.474959</td>\n",
       "      <td>2.376254</td>\n",
       "    </tr>\n",
       "    <tr>\n",
       "      <th>min</th>\n",
       "      <td>3.000000</td>\n",
       "      <td>0.000000</td>\n",
       "      <td>0.000000</td>\n",
       "    </tr>\n",
       "    <tr>\n",
       "      <th>25%</th>\n",
       "      <td>7.000000</td>\n",
       "      <td>3.000000</td>\n",
       "      <td>5.000000</td>\n",
       "    </tr>\n",
       "    <tr>\n",
       "      <th>50%</th>\n",
       "      <td>8.000000</td>\n",
       "      <td>4.000000</td>\n",
       "      <td>6.000000</td>\n",
       "    </tr>\n",
       "    <tr>\n",
       "      <th>75%</th>\n",
       "      <td>10.000000</td>\n",
       "      <td>5.000000</td>\n",
       "      <td>8.000000</td>\n",
       "    </tr>\n",
       "    <tr>\n",
       "      <th>max</th>\n",
       "      <td>13.000000</td>\n",
       "      <td>11.000000</td>\n",
       "      <td>13.000000</td>\n",
       "    </tr>\n",
       "    <tr>\n",
       "      <th rowspan=\"8\" valign=\"top\">NumTakeAwayPurchases</th>\n",
       "      <th>count</th>\n",
       "      <td>2555.000000</td>\n",
       "      <td>3380.000000</td>\n",
       "      <td>1065.000000</td>\n",
       "    </tr>\n",
       "    <tr>\n",
       "      <th>mean</th>\n",
       "      <td>4.243836</td>\n",
       "      <td>1.653254</td>\n",
       "      <td>9.775587</td>\n",
       "    </tr>\n",
       "    <tr>\n",
       "      <th>std</th>\n",
       "      <td>1.544573</td>\n",
       "      <td>0.959310</td>\n",
       "      <td>3.673898</td>\n",
       "    </tr>\n",
       "    <tr>\n",
       "      <th>min</th>\n",
       "      <td>1.000000</td>\n",
       "      <td>0.000000</td>\n",
       "      <td>6.000000</td>\n",
       "    </tr>\n",
       "    <tr>\n",
       "      <th>25%</th>\n",
       "      <td>3.000000</td>\n",
       "      <td>1.000000</td>\n",
       "      <td>8.000000</td>\n",
       "    </tr>\n",
       "    <tr>\n",
       "      <th>50%</th>\n",
       "      <td>4.000000</td>\n",
       "      <td>1.000000</td>\n",
       "      <td>9.000000</td>\n",
       "    </tr>\n",
       "    <tr>\n",
       "      <th>75%</th>\n",
       "      <td>5.000000</td>\n",
       "      <td>2.000000</td>\n",
       "      <td>11.000000</td>\n",
       "    </tr>\n",
       "    <tr>\n",
       "      <th>max</th>\n",
       "      <td>9.000000</td>\n",
       "      <td>7.000000</td>\n",
       "      <td>24.000000</td>\n",
       "    </tr>\n",
       "    <tr>\n",
       "      <th rowspan=\"8\" valign=\"top\">NumStorePurchases</th>\n",
       "      <th>count</th>\n",
       "      <td>2555.000000</td>\n",
       "      <td>3380.000000</td>\n",
       "      <td>1065.000000</td>\n",
       "    </tr>\n",
       "    <tr>\n",
       "      <th>mean</th>\n",
       "      <td>8.486106</td>\n",
       "      <td>3.237278</td>\n",
       "      <td>7.427230</td>\n",
       "    </tr>\n",
       "    <tr>\n",
       "      <th>std</th>\n",
       "      <td>2.545456</td>\n",
       "      <td>1.148065</td>\n",
       "      <td>3.297101</td>\n",
       "    </tr>\n",
       "    <tr>\n",
       "      <th>min</th>\n",
       "      <td>3.000000</td>\n",
       "      <td>0.000000</td>\n",
       "      <td>0.000000</td>\n",
       "    </tr>\n",
       "    <tr>\n",
       "      <th>25%</th>\n",
       "      <td>6.000000</td>\n",
       "      <td>3.000000</td>\n",
       "      <td>5.000000</td>\n",
       "    </tr>\n",
       "    <tr>\n",
       "      <th>50%</th>\n",
       "      <td>8.000000</td>\n",
       "      <td>3.000000</td>\n",
       "      <td>7.000000</td>\n",
       "    </tr>\n",
       "    <tr>\n",
       "      <th>75%</th>\n",
       "      <td>10.000000</td>\n",
       "      <td>4.000000</td>\n",
       "      <td>10.000000</td>\n",
       "    </tr>\n",
       "    <tr>\n",
       "      <th>max</th>\n",
       "      <td>13.000000</td>\n",
       "      <td>8.000000</td>\n",
       "      <td>13.000000</td>\n",
       "    </tr>\n",
       "  </tbody>\n",
       "</table>\n",
       "</div>"
      ],
      "text/plain": [
       "k_label                               0            1            2\n",
       "NumAppPurchases      count  2555.000000  3380.000000  1065.000000\n",
       "                     mean      8.305284     4.137574     6.483568\n",
       "                     std       2.328695     1.474959     2.376254\n",
       "                     min       3.000000     0.000000     0.000000\n",
       "                     25%       7.000000     3.000000     5.000000\n",
       "                     50%       8.000000     4.000000     6.000000\n",
       "                     75%      10.000000     5.000000     8.000000\n",
       "                     max      13.000000    11.000000    13.000000\n",
       "NumTakeAwayPurchases count  2555.000000  3380.000000  1065.000000\n",
       "                     mean      4.243836     1.653254     9.775587\n",
       "                     std       1.544573     0.959310     3.673898\n",
       "                     min       1.000000     0.000000     6.000000\n",
       "                     25%       3.000000     1.000000     8.000000\n",
       "                     50%       4.000000     1.000000     9.000000\n",
       "                     75%       5.000000     2.000000    11.000000\n",
       "                     max       9.000000     7.000000    24.000000\n",
       "NumStorePurchases    count  2555.000000  3380.000000  1065.000000\n",
       "                     mean      8.486106     3.237278     7.427230\n",
       "                     std       2.545456     1.148065     3.297101\n",
       "                     min       3.000000     0.000000     0.000000\n",
       "                     25%       6.000000     3.000000     5.000000\n",
       "                     50%       8.000000     3.000000     7.000000\n",
       "                     75%      10.000000     4.000000    10.000000\n",
       "                     max      13.000000     8.000000    13.000000"
      ]
     },
     "execution_count": 65,
     "metadata": {},
     "output_type": "execute_result"
    }
   ],
   "source": [
    "descr = sales_vc_k3.groupby(['k_label']).describe().transpose()\n",
    "descr"
   ]
  },
  {
   "cell_type": "markdown",
   "metadata": {},
   "source": [
    "## 5 Clusters (K=5) "
   ]
  },
  {
   "cell_type": "code",
   "execution_count": 66,
   "metadata": {},
   "outputs": [],
   "source": [
    "sales_vc_k5 = sales_vc.copy()\n",
    "model_k5 = KMeans(n_clusters=5, random_state = 100).fit(sales_vc_k5)"
   ]
  },
  {
   "cell_type": "code",
   "execution_count": 67,
   "metadata": {},
   "outputs": [],
   "source": [
    "sales_vc_k5['k_label'] = model_k5.labels_"
   ]
  },
  {
   "cell_type": "code",
   "execution_count": 68,
   "metadata": {},
   "outputs": [
    {
     "data": {
      "text/html": [
       "<div>\n",
       "<style scoped>\n",
       "    .dataframe tbody tr th:only-of-type {\n",
       "        vertical-align: middle;\n",
       "    }\n",
       "\n",
       "    .dataframe tbody tr th {\n",
       "        vertical-align: top;\n",
       "    }\n",
       "\n",
       "    .dataframe thead th {\n",
       "        text-align: right;\n",
       "    }\n",
       "</style>\n",
       "<table border=\"1\" class=\"dataframe\">\n",
       "  <thead>\n",
       "    <tr style=\"text-align: right;\">\n",
       "      <th>k_label</th>\n",
       "      <th>0</th>\n",
       "      <th>1</th>\n",
       "      <th>2</th>\n",
       "      <th>3</th>\n",
       "      <th>4</th>\n",
       "    </tr>\n",
       "  </thead>\n",
       "  <tbody>\n",
       "    <tr>\n",
       "      <th>NumAppPurchases</th>\n",
       "      <td>8.132075</td>\n",
       "      <td>6.936830</td>\n",
       "      <td>3.824180</td>\n",
       "      <td>0.491803</td>\n",
       "      <td>7.778755</td>\n",
       "    </tr>\n",
       "    <tr>\n",
       "      <th>NumTakeAwayPurchases</th>\n",
       "      <td>3.391652</td>\n",
       "      <td>8.637664</td>\n",
       "      <td>1.483590</td>\n",
       "      <td>23.213115</td>\n",
       "      <td>5.726740</td>\n",
       "    </tr>\n",
       "    <tr>\n",
       "      <th>NumStorePurchases</th>\n",
       "      <td>6.282447</td>\n",
       "      <td>6.343266</td>\n",
       "      <td>3.038513</td>\n",
       "      <td>0.409836</td>\n",
       "      <td>11.081319</td>\n",
       "    </tr>\n",
       "  </tbody>\n",
       "</table>\n",
       "</div>"
      ],
      "text/plain": [
       "k_label                      0         1         2          3          4\n",
       "NumAppPurchases       8.132075  6.936830  3.824180   0.491803   7.778755\n",
       "NumTakeAwayPurchases  3.391652  8.637664  1.483590  23.213115   5.726740\n",
       "NumStorePurchases     6.282447  6.343266  3.038513   0.409836  11.081319"
      ]
     },
     "execution_count": 68,
     "metadata": {},
     "output_type": "execute_result"
    }
   ],
   "source": [
    "sales_vc_k5.groupby(['k_label']).mean().transpose()"
   ]
  },
  {
   "cell_type": "markdown",
   "metadata": {},
   "source": [
    "Ordem de grandeza do clusters (n.º de individuos) : 4 > 0 > 3 > 1 > 2\n",
    "\n",
    "- C0 (geral_avg=17) consome mais na APP \n",
    "- C1 (geral_avg=20) consome mais no TK Away, mas não é o que consome mais\n",
    "- C2 (geral_avg=24) consome maioritariamente TK Away (praticamente só Tk Away e nada na app e loja) grupo de clientes regulares que previligiam o TK Away, \"habituais\"); A mediana é =0 para a compra na APP e na Loja\n",
    "- C3 (geral_avg=24) preferencia pelo com sumo na loja\n",
    "- c4 o que consome menos e o que tem mais individuos, é o que consome menos Tk Away (os cliente menos regulares, i.e a maioria)"
   ]
  },
  {
   "cell_type": "code",
   "execution_count": 69,
   "metadata": {},
   "outputs": [
    {
     "data": {
      "text/html": [
       "<div>\n",
       "<style scoped>\n",
       "    .dataframe tbody tr th:only-of-type {\n",
       "        vertical-align: middle;\n",
       "    }\n",
       "\n",
       "    .dataframe tbody tr th {\n",
       "        vertical-align: top;\n",
       "    }\n",
       "\n",
       "    .dataframe thead th {\n",
       "        text-align: right;\n",
       "    }\n",
       "</style>\n",
       "<table border=\"1\" class=\"dataframe\">\n",
       "  <thead>\n",
       "    <tr style=\"text-align: right;\">\n",
       "      <th></th>\n",
       "      <th>k_label</th>\n",
       "      <th>0</th>\n",
       "      <th>1</th>\n",
       "      <th>2</th>\n",
       "      <th>3</th>\n",
       "      <th>4</th>\n",
       "    </tr>\n",
       "  </thead>\n",
       "  <tbody>\n",
       "    <tr>\n",
       "      <th rowspan=\"8\" valign=\"top\">NumAppPurchases</th>\n",
       "      <th>count</th>\n",
       "      <td>1749.000000</td>\n",
       "      <td>839.000000</td>\n",
       "      <td>2986.000000</td>\n",
       "      <td>61.000000</td>\n",
       "      <td>1365.000000</td>\n",
       "    </tr>\n",
       "    <tr>\n",
       "      <th>mean</th>\n",
       "      <td>8.132075</td>\n",
       "      <td>6.936830</td>\n",
       "      <td>3.824180</td>\n",
       "      <td>0.491803</td>\n",
       "      <td>7.778755</td>\n",
       "    </tr>\n",
       "    <tr>\n",
       "      <th>std</th>\n",
       "      <td>2.205217</td>\n",
       "      <td>1.950966</td>\n",
       "      <td>1.198644</td>\n",
       "      <td>0.504082</td>\n",
       "      <td>2.387219</td>\n",
       "    </tr>\n",
       "    <tr>\n",
       "      <th>min</th>\n",
       "      <td>3.000000</td>\n",
       "      <td>3.000000</td>\n",
       "      <td>0.000000</td>\n",
       "      <td>0.000000</td>\n",
       "      <td>3.000000</td>\n",
       "    </tr>\n",
       "    <tr>\n",
       "      <th>25%</th>\n",
       "      <td>7.000000</td>\n",
       "      <td>6.000000</td>\n",
       "      <td>3.000000</td>\n",
       "      <td>0.000000</td>\n",
       "      <td>6.000000</td>\n",
       "    </tr>\n",
       "    <tr>\n",
       "      <th>50%</th>\n",
       "      <td>8.000000</td>\n",
       "      <td>7.000000</td>\n",
       "      <td>4.000000</td>\n",
       "      <td>0.000000</td>\n",
       "      <td>7.000000</td>\n",
       "    </tr>\n",
       "    <tr>\n",
       "      <th>75%</th>\n",
       "      <td>10.000000</td>\n",
       "      <td>8.000000</td>\n",
       "      <td>5.000000</td>\n",
       "      <td>1.000000</td>\n",
       "      <td>9.000000</td>\n",
       "    </tr>\n",
       "    <tr>\n",
       "      <th>max</th>\n",
       "      <td>13.000000</td>\n",
       "      <td>13.000000</td>\n",
       "      <td>7.000000</td>\n",
       "      <td>1.000000</td>\n",
       "      <td>13.000000</td>\n",
       "    </tr>\n",
       "    <tr>\n",
       "      <th rowspan=\"8\" valign=\"top\">NumTakeAwayPurchases</th>\n",
       "      <th>count</th>\n",
       "      <td>1749.000000</td>\n",
       "      <td>839.000000</td>\n",
       "      <td>2986.000000</td>\n",
       "      <td>61.000000</td>\n",
       "      <td>1365.000000</td>\n",
       "    </tr>\n",
       "    <tr>\n",
       "      <th>mean</th>\n",
       "      <td>3.391652</td>\n",
       "      <td>8.637664</td>\n",
       "      <td>1.483590</td>\n",
       "      <td>23.213115</td>\n",
       "      <td>5.726740</td>\n",
       "    </tr>\n",
       "    <tr>\n",
       "      <th>std</th>\n",
       "      <td>1.230969</td>\n",
       "      <td>1.871100</td>\n",
       "      <td>0.771280</td>\n",
       "      <td>0.412907</td>\n",
       "      <td>2.148974</td>\n",
       "    </tr>\n",
       "    <tr>\n",
       "      <th>min</th>\n",
       "      <td>1.000000</td>\n",
       "      <td>6.000000</td>\n",
       "      <td>0.000000</td>\n",
       "      <td>23.000000</td>\n",
       "      <td>3.000000</td>\n",
       "    </tr>\n",
       "    <tr>\n",
       "      <th>25%</th>\n",
       "      <td>2.000000</td>\n",
       "      <td>7.000000</td>\n",
       "      <td>1.000000</td>\n",
       "      <td>23.000000</td>\n",
       "      <td>4.000000</td>\n",
       "    </tr>\n",
       "    <tr>\n",
       "      <th>50%</th>\n",
       "      <td>3.000000</td>\n",
       "      <td>8.000000</td>\n",
       "      <td>1.000000</td>\n",
       "      <td>23.000000</td>\n",
       "      <td>6.000000</td>\n",
       "    </tr>\n",
       "    <tr>\n",
       "      <th>75%</th>\n",
       "      <td>4.000000</td>\n",
       "      <td>10.000000</td>\n",
       "      <td>2.000000</td>\n",
       "      <td>23.000000</td>\n",
       "      <td>7.000000</td>\n",
       "    </tr>\n",
       "    <tr>\n",
       "      <th>max</th>\n",
       "      <td>7.000000</td>\n",
       "      <td>12.000000</td>\n",
       "      <td>6.000000</td>\n",
       "      <td>24.000000</td>\n",
       "      <td>12.000000</td>\n",
       "    </tr>\n",
       "    <tr>\n",
       "      <th rowspan=\"8\" valign=\"top\">NumStorePurchases</th>\n",
       "      <th>count</th>\n",
       "      <td>1749.000000</td>\n",
       "      <td>839.000000</td>\n",
       "      <td>2986.000000</td>\n",
       "      <td>61.000000</td>\n",
       "      <td>1365.000000</td>\n",
       "    </tr>\n",
       "    <tr>\n",
       "      <th>mean</th>\n",
       "      <td>6.282447</td>\n",
       "      <td>6.343266</td>\n",
       "      <td>3.038513</td>\n",
       "      <td>0.409836</td>\n",
       "      <td>11.081319</td>\n",
       "    </tr>\n",
       "    <tr>\n",
       "      <th>std</th>\n",
       "      <td>1.574698</td>\n",
       "      <td>1.924326</td>\n",
       "      <td>0.995900</td>\n",
       "      <td>0.495885</td>\n",
       "      <td>1.309220</td>\n",
       "    </tr>\n",
       "    <tr>\n",
       "      <th>min</th>\n",
       "      <td>2.000000</td>\n",
       "      <td>3.000000</td>\n",
       "      <td>0.000000</td>\n",
       "      <td>0.000000</td>\n",
       "      <td>8.000000</td>\n",
       "    </tr>\n",
       "    <tr>\n",
       "      <th>25%</th>\n",
       "      <td>5.000000</td>\n",
       "      <td>5.000000</td>\n",
       "      <td>3.000000</td>\n",
       "      <td>0.000000</td>\n",
       "      <td>10.000000</td>\n",
       "    </tr>\n",
       "    <tr>\n",
       "      <th>50%</th>\n",
       "      <td>6.000000</td>\n",
       "      <td>6.000000</td>\n",
       "      <td>3.000000</td>\n",
       "      <td>0.000000</td>\n",
       "      <td>11.000000</td>\n",
       "    </tr>\n",
       "    <tr>\n",
       "      <th>75%</th>\n",
       "      <td>8.000000</td>\n",
       "      <td>8.000000</td>\n",
       "      <td>4.000000</td>\n",
       "      <td>1.000000</td>\n",
       "      <td>12.000000</td>\n",
       "    </tr>\n",
       "    <tr>\n",
       "      <th>max</th>\n",
       "      <td>9.000000</td>\n",
       "      <td>11.000000</td>\n",
       "      <td>8.000000</td>\n",
       "      <td>1.000000</td>\n",
       "      <td>13.000000</td>\n",
       "    </tr>\n",
       "  </tbody>\n",
       "</table>\n",
       "</div>"
      ],
      "text/plain": [
       "k_label                               0           1            2          3  \\\n",
       "NumAppPurchases      count  1749.000000  839.000000  2986.000000  61.000000   \n",
       "                     mean      8.132075    6.936830     3.824180   0.491803   \n",
       "                     std       2.205217    1.950966     1.198644   0.504082   \n",
       "                     min       3.000000    3.000000     0.000000   0.000000   \n",
       "                     25%       7.000000    6.000000     3.000000   0.000000   \n",
       "                     50%       8.000000    7.000000     4.000000   0.000000   \n",
       "                     75%      10.000000    8.000000     5.000000   1.000000   \n",
       "                     max      13.000000   13.000000     7.000000   1.000000   \n",
       "NumTakeAwayPurchases count  1749.000000  839.000000  2986.000000  61.000000   \n",
       "                     mean      3.391652    8.637664     1.483590  23.213115   \n",
       "                     std       1.230969    1.871100     0.771280   0.412907   \n",
       "                     min       1.000000    6.000000     0.000000  23.000000   \n",
       "                     25%       2.000000    7.000000     1.000000  23.000000   \n",
       "                     50%       3.000000    8.000000     1.000000  23.000000   \n",
       "                     75%       4.000000   10.000000     2.000000  23.000000   \n",
       "                     max       7.000000   12.000000     6.000000  24.000000   \n",
       "NumStorePurchases    count  1749.000000  839.000000  2986.000000  61.000000   \n",
       "                     mean      6.282447    6.343266     3.038513   0.409836   \n",
       "                     std       1.574698    1.924326     0.995900   0.495885   \n",
       "                     min       2.000000    3.000000     0.000000   0.000000   \n",
       "                     25%       5.000000    5.000000     3.000000   0.000000   \n",
       "                     50%       6.000000    6.000000     3.000000   0.000000   \n",
       "                     75%       8.000000    8.000000     4.000000   1.000000   \n",
       "                     max       9.000000   11.000000     8.000000   1.000000   \n",
       "\n",
       "k_label                               4  \n",
       "NumAppPurchases      count  1365.000000  \n",
       "                     mean      7.778755  \n",
       "                     std       2.387219  \n",
       "                     min       3.000000  \n",
       "                     25%       6.000000  \n",
       "                     50%       7.000000  \n",
       "                     75%       9.000000  \n",
       "                     max      13.000000  \n",
       "NumTakeAwayPurchases count  1365.000000  \n",
       "                     mean      5.726740  \n",
       "                     std       2.148974  \n",
       "                     min       3.000000  \n",
       "                     25%       4.000000  \n",
       "                     50%       6.000000  \n",
       "                     75%       7.000000  \n",
       "                     max      12.000000  \n",
       "NumStorePurchases    count  1365.000000  \n",
       "                     mean     11.081319  \n",
       "                     std       1.309220  \n",
       "                     min       8.000000  \n",
       "                     25%      10.000000  \n",
       "                     50%      11.000000  \n",
       "                     75%      12.000000  \n",
       "                     max      13.000000  "
      ]
     },
     "execution_count": 69,
     "metadata": {},
     "output_type": "execute_result"
    }
   ],
   "source": [
    "sales_vc_k5.groupby(['k_label']).describe().transpose()"
   ]
  },
  {
   "cell_type": "markdown",
   "metadata": {},
   "source": [
    "## 4 Clusters (K=4) --> SOLUÇÃO"
   ]
  },
  {
   "cell_type": "code",
   "execution_count": 70,
   "metadata": {},
   "outputs": [],
   "source": [
    "sales_vc_k4 = sales_vc.copy()\n",
    "model_k4 = KMeans(n_clusters=4, random_state = 100).fit(sales_vc_k4)"
   ]
  },
  {
   "cell_type": "code",
   "execution_count": 71,
   "metadata": {},
   "outputs": [],
   "source": [
    "sales_vc_k4['k_label'] = model_k4.labels_"
   ]
  },
  {
   "cell_type": "code",
   "execution_count": 72,
   "metadata": {},
   "outputs": [
    {
     "data": {
      "text/html": [
       "<div>\n",
       "<style scoped>\n",
       "    .dataframe tbody tr th:only-of-type {\n",
       "        vertical-align: middle;\n",
       "    }\n",
       "\n",
       "    .dataframe tbody tr th {\n",
       "        vertical-align: top;\n",
       "    }\n",
       "\n",
       "    .dataframe thead th {\n",
       "        text-align: right;\n",
       "    }\n",
       "</style>\n",
       "<table border=\"1\" class=\"dataframe\">\n",
       "  <thead>\n",
       "    <tr style=\"text-align: right;\">\n",
       "      <th>k_label</th>\n",
       "      <th>0</th>\n",
       "      <th>1</th>\n",
       "      <th>2</th>\n",
       "      <th>3</th>\n",
       "    </tr>\n",
       "  </thead>\n",
       "  <tbody>\n",
       "    <tr>\n",
       "      <th>NumAppPurchases</th>\n",
       "      <td>8.034247</td>\n",
       "      <td>7.502709</td>\n",
       "      <td>3.893459</td>\n",
       "      <td>0.491803</td>\n",
       "    </tr>\n",
       "    <tr>\n",
       "      <th>NumTakeAwayPurchases</th>\n",
       "      <td>4.689954</td>\n",
       "      <td>6.337146</td>\n",
       "      <td>1.499028</td>\n",
       "      <td>23.213115</td>\n",
       "    </tr>\n",
       "    <tr>\n",
       "      <th>NumStorePurchases</th>\n",
       "      <td>6.050685</td>\n",
       "      <td>10.618302</td>\n",
       "      <td>3.115609</td>\n",
       "      <td>0.409836</td>\n",
       "    </tr>\n",
       "  </tbody>\n",
       "</table>\n",
       "</div>"
      ],
      "text/plain": [
       "k_label                      0          1         2          3\n",
       "NumAppPurchases       8.034247   7.502709  3.893459   0.491803\n",
       "NumTakeAwayPurchases  4.689954   6.337146  1.499028  23.213115\n",
       "NumStorePurchases     6.050685  10.618302  3.115609   0.409836"
      ]
     },
     "execution_count": 72,
     "metadata": {},
     "output_type": "execute_result"
    }
   ],
   "source": [
    "sales_vc_k4.groupby(['k_label']).mean().transpose()"
   ]
  },
  {
   "cell_type": "markdown",
   "metadata": {},
   "source": [
    "Ordem de grandeza do clusters (n.º de individuos) : 3 < 2 < 1 < 0\n",
    "\n",
    "- C0 (geral_avg~8)  APP e Loja está mais equilibrado e que menos consome TK Away; é o grupo que tem mais individuos (Menos regulares)\n",
    "- C1 (geral_avg~19) Consome mais na APP\n",
    "- C2 (geral_avg~24) consome mais na loja, é o que consome mais na loja, são clientes regulares\n",
    "- C3 (geral_avg=24) consome maioritariamente TK Away (praticamente só Tk Away e nada na app e loja) grupo de clientes regulares que previligiam o TK Away, \"habituais\"); A mediana é =0 para a compra na APP e na Loja\n"
   ]
  },
  {
   "cell_type": "code",
   "execution_count": 73,
   "metadata": {},
   "outputs": [
    {
     "data": {
      "text/html": [
       "<div>\n",
       "<style scoped>\n",
       "    .dataframe tbody tr th:only-of-type {\n",
       "        vertical-align: middle;\n",
       "    }\n",
       "\n",
       "    .dataframe tbody tr th {\n",
       "        vertical-align: top;\n",
       "    }\n",
       "\n",
       "    .dataframe thead th {\n",
       "        text-align: right;\n",
       "    }\n",
       "</style>\n",
       "<table border=\"1\" class=\"dataframe\">\n",
       "  <thead>\n",
       "    <tr style=\"text-align: right;\">\n",
       "      <th></th>\n",
       "      <th>k_label</th>\n",
       "      <th>0</th>\n",
       "      <th>1</th>\n",
       "      <th>2</th>\n",
       "      <th>3</th>\n",
       "    </tr>\n",
       "  </thead>\n",
       "  <tbody>\n",
       "    <tr>\n",
       "      <th rowspan=\"8\" valign=\"top\">NumAppPurchases</th>\n",
       "      <th>count</th>\n",
       "      <td>2190.000000</td>\n",
       "      <td>1661.000000</td>\n",
       "      <td>3088.000000</td>\n",
       "      <td>61.000000</td>\n",
       "    </tr>\n",
       "    <tr>\n",
       "      <th>mean</th>\n",
       "      <td>8.034247</td>\n",
       "      <td>7.502709</td>\n",
       "      <td>3.893459</td>\n",
       "      <td>0.491803</td>\n",
       "    </tr>\n",
       "    <tr>\n",
       "      <th>std</th>\n",
       "      <td>2.199966</td>\n",
       "      <td>2.321876</td>\n",
       "      <td>1.251361</td>\n",
       "      <td>0.504082</td>\n",
       "    </tr>\n",
       "    <tr>\n",
       "      <th>min</th>\n",
       "      <td>4.000000</td>\n",
       "      <td>3.000000</td>\n",
       "      <td>0.000000</td>\n",
       "      <td>0.000000</td>\n",
       "    </tr>\n",
       "    <tr>\n",
       "      <th>25%</th>\n",
       "      <td>6.000000</td>\n",
       "      <td>6.000000</td>\n",
       "      <td>3.000000</td>\n",
       "      <td>0.000000</td>\n",
       "    </tr>\n",
       "    <tr>\n",
       "      <th>50%</th>\n",
       "      <td>8.000000</td>\n",
       "      <td>7.000000</td>\n",
       "      <td>4.000000</td>\n",
       "      <td>0.000000</td>\n",
       "    </tr>\n",
       "    <tr>\n",
       "      <th>75%</th>\n",
       "      <td>10.000000</td>\n",
       "      <td>9.000000</td>\n",
       "      <td>5.000000</td>\n",
       "      <td>1.000000</td>\n",
       "    </tr>\n",
       "    <tr>\n",
       "      <th>max</th>\n",
       "      <td>13.000000</td>\n",
       "      <td>13.000000</td>\n",
       "      <td>7.000000</td>\n",
       "      <td>1.000000</td>\n",
       "    </tr>\n",
       "    <tr>\n",
       "      <th rowspan=\"8\" valign=\"top\">NumTakeAwayPurchases</th>\n",
       "      <th>count</th>\n",
       "      <td>2190.000000</td>\n",
       "      <td>1661.000000</td>\n",
       "      <td>3088.000000</td>\n",
       "      <td>61.000000</td>\n",
       "    </tr>\n",
       "    <tr>\n",
       "      <th>mean</th>\n",
       "      <td>4.689954</td>\n",
       "      <td>6.337146</td>\n",
       "      <td>1.499028</td>\n",
       "      <td>23.213115</td>\n",
       "    </tr>\n",
       "    <tr>\n",
       "      <th>std</th>\n",
       "      <td>2.476060</td>\n",
       "      <td>2.540183</td>\n",
       "      <td>0.756357</td>\n",
       "      <td>0.412907</td>\n",
       "    </tr>\n",
       "    <tr>\n",
       "      <th>min</th>\n",
       "      <td>1.000000</td>\n",
       "      <td>3.000000</td>\n",
       "      <td>0.000000</td>\n",
       "      <td>23.000000</td>\n",
       "    </tr>\n",
       "    <tr>\n",
       "      <th>25%</th>\n",
       "      <td>3.000000</td>\n",
       "      <td>4.000000</td>\n",
       "      <td>1.000000</td>\n",
       "      <td>23.000000</td>\n",
       "    </tr>\n",
       "    <tr>\n",
       "      <th>50%</th>\n",
       "      <td>4.000000</td>\n",
       "      <td>6.000000</td>\n",
       "      <td>1.000000</td>\n",
       "      <td>23.000000</td>\n",
       "    </tr>\n",
       "    <tr>\n",
       "      <th>75%</th>\n",
       "      <td>6.000000</td>\n",
       "      <td>8.000000</td>\n",
       "      <td>2.000000</td>\n",
       "      <td>23.000000</td>\n",
       "    </tr>\n",
       "    <tr>\n",
       "      <th>max</th>\n",
       "      <td>12.000000</td>\n",
       "      <td>12.000000</td>\n",
       "      <td>7.000000</td>\n",
       "      <td>24.000000</td>\n",
       "    </tr>\n",
       "    <tr>\n",
       "      <th rowspan=\"8\" valign=\"top\">NumStorePurchases</th>\n",
       "      <th>count</th>\n",
       "      <td>2190.000000</td>\n",
       "      <td>1661.000000</td>\n",
       "      <td>3088.000000</td>\n",
       "      <td>61.000000</td>\n",
       "    </tr>\n",
       "    <tr>\n",
       "      <th>mean</th>\n",
       "      <td>6.050685</td>\n",
       "      <td>10.618302</td>\n",
       "      <td>3.115609</td>\n",
       "      <td>0.409836</td>\n",
       "    </tr>\n",
       "    <tr>\n",
       "      <th>std</th>\n",
       "      <td>1.546799</td>\n",
       "      <td>1.620651</td>\n",
       "      <td>1.092681</td>\n",
       "      <td>0.495885</td>\n",
       "    </tr>\n",
       "    <tr>\n",
       "      <th>min</th>\n",
       "      <td>2.000000</td>\n",
       "      <td>6.000000</td>\n",
       "      <td>0.000000</td>\n",
       "      <td>0.000000</td>\n",
       "    </tr>\n",
       "    <tr>\n",
       "      <th>25%</th>\n",
       "      <td>5.000000</td>\n",
       "      <td>9.000000</td>\n",
       "      <td>3.000000</td>\n",
       "      <td>0.000000</td>\n",
       "    </tr>\n",
       "    <tr>\n",
       "      <th>50%</th>\n",
       "      <td>6.000000</td>\n",
       "      <td>11.000000</td>\n",
       "      <td>3.000000</td>\n",
       "      <td>0.000000</td>\n",
       "    </tr>\n",
       "    <tr>\n",
       "      <th>75%</th>\n",
       "      <td>7.000000</td>\n",
       "      <td>12.000000</td>\n",
       "      <td>4.000000</td>\n",
       "      <td>1.000000</td>\n",
       "    </tr>\n",
       "    <tr>\n",
       "      <th>max</th>\n",
       "      <td>9.000000</td>\n",
       "      <td>13.000000</td>\n",
       "      <td>8.000000</td>\n",
       "      <td>1.000000</td>\n",
       "    </tr>\n",
       "  </tbody>\n",
       "</table>\n",
       "</div>"
      ],
      "text/plain": [
       "k_label                               0            1            2          3\n",
       "NumAppPurchases      count  2190.000000  1661.000000  3088.000000  61.000000\n",
       "                     mean      8.034247     7.502709     3.893459   0.491803\n",
       "                     std       2.199966     2.321876     1.251361   0.504082\n",
       "                     min       4.000000     3.000000     0.000000   0.000000\n",
       "                     25%       6.000000     6.000000     3.000000   0.000000\n",
       "                     50%       8.000000     7.000000     4.000000   0.000000\n",
       "                     75%      10.000000     9.000000     5.000000   1.000000\n",
       "                     max      13.000000    13.000000     7.000000   1.000000\n",
       "NumTakeAwayPurchases count  2190.000000  1661.000000  3088.000000  61.000000\n",
       "                     mean      4.689954     6.337146     1.499028  23.213115\n",
       "                     std       2.476060     2.540183     0.756357   0.412907\n",
       "                     min       1.000000     3.000000     0.000000  23.000000\n",
       "                     25%       3.000000     4.000000     1.000000  23.000000\n",
       "                     50%       4.000000     6.000000     1.000000  23.000000\n",
       "                     75%       6.000000     8.000000     2.000000  23.000000\n",
       "                     max      12.000000    12.000000     7.000000  24.000000\n",
       "NumStorePurchases    count  2190.000000  1661.000000  3088.000000  61.000000\n",
       "                     mean      6.050685    10.618302     3.115609   0.409836\n",
       "                     std       1.546799     1.620651     1.092681   0.495885\n",
       "                     min       2.000000     6.000000     0.000000   0.000000\n",
       "                     25%       5.000000     9.000000     3.000000   0.000000\n",
       "                     50%       6.000000    11.000000     3.000000   0.000000\n",
       "                     75%       7.000000    12.000000     4.000000   1.000000\n",
       "                     max       9.000000    13.000000     8.000000   1.000000"
      ]
     },
     "execution_count": 73,
     "metadata": {},
     "output_type": "execute_result"
    }
   ],
   "source": [
    "sales_vc_k4.groupby(['k_label']).describe().transpose()"
   ]
  },
  {
   "cell_type": "markdown",
   "metadata": {},
   "source": [
    "## Visualização"
   ]
  },
  {
   "cell_type": "markdown",
   "metadata": {},
   "source": [
    "HISTOGRAMAS"
   ]
  },
  {
   "cell_type": "code",
   "execution_count": 74,
   "metadata": {},
   "outputs": [],
   "source": [
    "cluster0 = sales_vc_k4[sales_vc_k4.k_label==0]\n",
    "cluster1 = sales_vc_k4[sales_vc_k4.k_label==1]\n",
    "cluster2 = sales_vc_k4[sales_vc_k4.k_label==2]\n",
    "cluster3 = sales_vc_k4[sales_vc_k4.k_label==3]"
   ]
  },
  {
   "cell_type": "code",
   "execution_count": 75,
   "metadata": {},
   "outputs": [
    {
     "data": {
      "text/plain": [
       "<matplotlib.legend.Legend at 0x7fec119f8e50>"
      ]
     },
     "execution_count": 75,
     "metadata": {},
     "output_type": "execute_result"
    },
    {
     "data": {
      "image/png": "[encoded data removed]",
      "text/plain": [
       "<Figure size 640x480 with 1 Axes>"
      ]
     },
     "metadata": {},
     "output_type": "display_data"
    }
   ],
   "source": [
    "sns.histplot(cluster0['NumAppPurchases'],color='red',label='NumAppPurchases - Cluster 0', bins = 20)\n",
    "sns.histplot(cluster1['NumAppPurchases'],color='yellow',label='NumAppPurchases - Cluster 1', bins = 20)\n",
    "sns.histplot(cluster2['NumAppPurchases'],color='green',label='NumAppPurchases - Cluster 2', bins = 20)\n",
    "sns.histplot(cluster3['NumAppPurchases'],color='blue',label='NumAppPurchases - Cluster 3', bins = 20)\n",
    "plt.legend()"
   ]
  },
  {
   "cell_type": "code",
   "execution_count": 76,
   "metadata": {},
   "outputs": [
    {
     "data": {
      "text/plain": [
       "<matplotlib.legend.Legend at 0x7fec2218caf0>"
      ]
     },
     "execution_count": 76,
     "metadata": {},
     "output_type": "execute_result"
    },
    {
     "data": {
      "image/png": "[encoded data removed]",
      "text/plain": [
       "<Figure size 640x480 with 1 Axes>"
      ]
     },
     "metadata": {},
     "output_type": "display_data"
    }
   ],
   "source": [
    "sns.histplot(cluster0['NumTakeAwayPurchases'],color='red',label='NumTakeAwayPurchases - Cluster 0', bins = 20)\n",
    "sns.histplot(cluster1['NumTakeAwayPurchases'],color='yellow',label='NumTakeAwayPurchases - Cluster 1', bins = 20)\n",
    "sns.histplot(cluster2['NumTakeAwayPurchases'],color='green',label='NumTakeAwayPurchases - Cluster 2', bins = 20)\n",
    "sns.histplot(cluster3['NumTakeAwayPurchases'],color='blue',label='NumTakeAwayPurchases - Cluster 3', bins = 20)\n",
    "plt.legend()"
   ]
  },
  {
   "cell_type": "code",
   "execution_count": 77,
   "metadata": {},
   "outputs": [
    {
     "data": {
      "text/plain": [
       "<matplotlib.legend.Legend at 0x7fec003da0a0>"
      ]
     },
     "execution_count": 77,
     "metadata": {},
     "output_type": "execute_result"
    },
    {
     "data": {
      "image/png": "[encoded data removed]",
      "text/plain": [
       "<Figure size 640x480 with 1 Axes>"
      ]
     },
     "metadata": {},
     "output_type": "display_data"
    }
   ],
   "source": [
    "sns.histplot(cluster0['NumStorePurchases'],color='red',label='NumStorePurchases - Cluster 0', bins = 20)\n",
    "sns.histplot(cluster1['NumStorePurchases'],color='yellow',label='NumStorePurchases - Cluster 1', bins = 20)\n",
    "sns.histplot(cluster2['NumStorePurchases'],color='green',label='NumStorePurchases - Cluster 2', bins = 20)\n",
    "sns.histplot(cluster3['NumStorePurchases'],color='blue',label='NumStorePurchases - Cluster 3', bins = 20)\n",
    "plt.legend()"
   ]
  },
  {
   "cell_type": "markdown",
   "metadata": {},
   "source": [
    "SCATTER PLOT"
   ]
  },
  {
   "cell_type": "code",
   "execution_count": 78,
   "metadata": {},
   "outputs": [
    {
     "data": {
      "text/plain": [
       "array([[ 8.03424658,  4.68995434,  6.05068493],\n",
       "       [ 7.50270921,  6.3371463 , 10.61830223],\n",
       "       [ 3.89345855,  1.4990285 ,  3.11560881],\n",
       "       [ 0.49180328, 23.21311475,  0.40983607]])"
      ]
     },
     "execution_count": 78,
     "metadata": {},
     "output_type": "execute_result"
    }
   ],
   "source": [
    "centroids = model_k4.cluster_centers_\n",
    "centroids"
   ]
  },
  {
   "cell_type": "code",
   "execution_count": 79,
   "metadata": {},
   "outputs": [
    {
     "data": {
      "text/plain": [
       "Index(['NumAppPurchases', 'NumTakeAwayPurchases', 'NumStorePurchases'], dtype='object')"
      ]
     },
     "execution_count": 79,
     "metadata": {},
     "output_type": "execute_result"
    }
   ],
   "source": [
    "sales_vc.columns"
   ]
  },
  {
   "cell_type": "code",
   "execution_count": 80,
   "metadata": {},
   "outputs": [],
   "source": [
    "centroid_0_APP = centroids[0,0]\n",
    "centroid_1_APP = centroids[1,0]\n",
    "centroid_2_APP = centroids[2,0]\n",
    "centroid_3_APP = centroids[3,0]\n",
    "centroid_0_STORE = centroids[0,1]\n",
    "centroid_1_STORE = centroids[1,1]\n",
    "centroid_2_STORE = centroids[2,1]\n",
    "centroid_3_STORE = centroids[3,1]\n",
    "centroid_0_TKAWAY = centroids[0,2]\n",
    "centroid_1_TKAWAY = centroids[1,2]\n",
    "centroid_2_TKAWAY = centroids[2,2]\n",
    "centroid_3_TKAWAY = centroids[3,2]"
   ]
  },
  {
   "cell_type": "code",
   "execution_count": 81,
   "metadata": {},
   "outputs": [
    {
     "data": {
      "image/png": "[encoded data removed]",
      "text/plain": [
       "<Figure size 640x480 with 1 Axes>"
      ]
     },
     "metadata": {},
     "output_type": "display_data"
    }
   ],
   "source": [
    "plt.scatter(sales_vc_k4.NumAppPurchases, sales_vc_k4.NumStorePurchases,\n",
    "            c=sales_vc_k4.k_label, s=10)\n",
    "\n",
    "plt.scatter(centroid_0_APP, centroid_0_STORE, marker='X', s=100)\n",
    "plt.scatter(centroid_1_APP, centroid_1_STORE, marker='X', s=100)\n",
    "plt.scatter(centroid_2_APP, centroid_2_STORE, marker='X', s=100)\n",
    "plt.scatter(centroid_3_APP, centroid_3_STORE, marker='X', s=100)\n",
    "\n",
    "plt.show()"
   ]
  },
  {
   "cell_type": "code",
   "execution_count": 82,
   "metadata": {},
   "outputs": [
    {
     "data": {
      "image/png": "[encoded data removed]",
      "text/plain": [
       "<Figure size 640x480 with 1 Axes>"
      ]
     },
     "metadata": {},
     "output_type": "display_data"
    }
   ],
   "source": [
    "plt.scatter(sales_vc_k4.NumAppPurchases, sales_vc_k4.NumTakeAwayPurchases,\n",
    "            c=sales_vc_k4.k_label, s=10)\n",
    "\n",
    "plt.scatter(centroid_0_APP, centroid_0_TKAWAY, marker='X', s=100)\n",
    "plt.scatter(centroid_1_APP, centroid_1_TKAWAY, marker='X', s=100)\n",
    "plt.scatter(centroid_2_APP, centroid_2_TKAWAY, marker='X', s=100)\n",
    "plt.scatter(centroid_3_APP, centroid_3_TKAWAY, marker='X', s=100)\n",
    "\n",
    "plt.show()"
   ]
  },
  {
   "cell_type": "code",
   "execution_count": 83,
   "metadata": {},
   "outputs": [
    {
     "data": {
      "text/plain": [
       "<function matplotlib.pyplot.show(close=None, block=None)>"
      ]
     },
     "execution_count": 83,
     "metadata": {},
     "output_type": "execute_result"
    },
    {
     "data": {
      "image/png": "[encoded data removed]",
      "text/plain": [
       "<Figure size 640x480 with 1 Axes>"
      ]
     },
     "metadata": {},
     "output_type": "display_data"
    }
   ],
   "source": [
    "plt.scatter(sales[\"NumAppPurchases\"], sales[\"NumTakeAwayPurchases\"])\n",
    "plt.show"
   ]
  },
  {
   "cell_type": "code",
   "execution_count": null,
   "metadata": {},
   "outputs": [],
   "source": []
  },
  {
   "cell_type": "markdown",
   "metadata": {},
   "source": [
    "<div class=\"alert alert-block alert-info\">\n",
    "    \n",
    "<a id='stats_num'></a>\n",
    "\n",
    "### DBSCAN clustering \n",
    "    \n",
    "</div>"
   ]
  },
  {
   "cell_type": "markdown",
   "metadata": {},
   "source": [
    "Ran the code of this site: https://www.reneshbedre.com/blog/dbscan-python.html?utm_content=cmp-true"
   ]
  },
  {
   "cell_type": "code",
   "execution_count": 97,
   "metadata": {},
   "outputs": [],
   "source": [
    "import numpy as np\n",
    "from sklearn.neighbors import NearestNeighbors\n",
    "# n_neighbors = 5 as kneighbors function returns distance of point to itself (i.e. first column will be zeros) \n",
    "nbrs = NearestNeighbors(n_neighbors = 5).fit(sales_vc)\n",
    "# Find the k-neighbors of a point\n",
    "neigh_dist, neigh_ind = nbrs.kneighbors(sales_vc)\n",
    "# sort the neighbor distances (lengths to points) in ascending order\n",
    "# axis = 0 represents sort along first axis i.e. sort along row\n",
    "sort_neigh_dist = np.sort(neigh_dist, axis = 0)"
   ]
  },
  {
   "cell_type": "code",
   "execution_count": 98,
   "metadata": {},
   "outputs": [
    {
     "data": {
      "image/png": "[encoded data removed]",
      "text/plain": [
       "<Figure size 640x480 with 1 Axes>"
      ]
     },
     "metadata": {},
     "output_type": "display_data"
    }
   ],
   "source": [
    "import matplotlib.pyplot as plt\n",
    "k_dist = sort_neigh_dist[:, 4]\n",
    "plt.plot(k_dist)\n",
    "plt.ylabel(\"k-NN distance\")\n",
    "plt.xlabel(\"Sorted observations (4th NN)\")\n",
    "plt.show()\n"
   ]
  },
  {
   "cell_type": "markdown",
   "metadata": {},
   "source": [
    "- Identifying the exact knee point could be difficult visually. In the below plot, the knee point can occur at any point between 1 to 2 i.e. the points below knee point belong to a cluster, and points above the knee point are noise or outliers (noise points will have higher kNN distance). You should run DBSCAN based on different values of ε (between 1 and 2) to find the best ε that gives the best clustering.\n",
    "\n",
    "- Additionally, to get an estimate of knee point, you can use the KneeLocator() function from the kneed package."
   ]
  },
  {
   "cell_type": "code",
   "execution_count": 100,
   "metadata": {},
   "outputs": [
    {
     "name": "stdout",
     "output_type": "stream",
     "text": [
      "Collecting kneed\n",
      "  Downloading kneed-0.8.2-py3-none-any.whl (10 kB)\n",
      "Requirement already satisfied: scipy>=1.0.0 in /Users/jp/opt/anaconda3/lib/python3.9/site-packages (from kneed) (1.9.1)\n",
      "Requirement already satisfied: numpy>=1.14.2 in /Users/jp/opt/anaconda3/lib/python3.9/site-packages (from kneed) (1.21.5)\n",
      "Installing collected packages: kneed\n",
      "Successfully installed kneed-0.8.2\n",
      "Note: you may need to restart the kernel to use updated packages.\n"
     ]
    }
   ],
   "source": [
    "pip install kneed"
   ]
  },
  {
   "cell_type": "code",
   "execution_count": 101,
   "metadata": {},
   "outputs": [
    {
     "name": "stdout",
     "output_type": "stream",
     "text": [
      "2.0\n"
     ]
    }
   ],
   "source": [
    "from kneed import KneeLocator\n",
    "kneedle = KneeLocator(x = range(1, len(neigh_dist)+1), y = k_dist, S = 1.0, \n",
    "                      curve = \"concave\", direction = \"increasing\", online=True)\n",
    "\n",
    "# get the estimate of knee point\n",
    "print(kneedle.knee_y)"
   ]
  },
  {
   "cell_type": "code",
   "execution_count": 102,
   "metadata": {},
   "outputs": [
    {
     "data": {
      "image/png": "[encoded data removed]",
      "text/plain": [
       "<Figure size 600x600 with 1 Axes>"
      ]
     },
     "metadata": {},
     "output_type": "display_data"
    }
   ],
   "source": [
    "#distance plot\n",
    "kneedle.plot_knee()\n",
    "plt.show()"
   ]
  },
  {
   "cell_type": "code",
   "execution_count": 120,
   "metadata": {},
   "outputs": [],
   "source": [
    "from sklearn.cluster import DBSCAN\n",
    "clusters = DBSCAN(eps = 2, min_samples = 1).fit(sales_vc)"
   ]
  },
  {
   "cell_type": "code",
   "execution_count": 121,
   "metadata": {},
   "outputs": [
    {
     "data": {
      "text/plain": [
       "array([0, 0, 0, ..., 0, 0, 0])"
      ]
     },
     "execution_count": 121,
     "metadata": {},
     "output_type": "execute_result"
    }
   ],
   "source": [
    "# get cluster labels\n",
    "clusters.labels_"
   ]
  },
  {
   "cell_type": "code",
   "execution_count": 122,
   "metadata": {},
   "outputs": [
    {
     "data": {
      "text/plain": [
       "{0, 1}"
      ]
     },
     "execution_count": 122,
     "metadata": {},
     "output_type": "execute_result"
    }
   ],
   "source": [
    "# check unique clusters\n",
    "set(clusters.labels_)"
   ]
  },
  {
   "cell_type": "code",
   "execution_count": 123,
   "metadata": {},
   "outputs": [
    {
     "data": {
      "text/plain": [
       "Counter({0: 6939, 1: 61})"
      ]
     },
     "execution_count": 123,
     "metadata": {},
     "output_type": "execute_result"
    }
   ],
   "source": [
    "from collections import Counter\n",
    "Counter(clusters.labels_)"
   ]
  },
  {
   "cell_type": "markdown",
   "metadata": {},
   "source": [
    "Visualization of DBSCAN clustering"
   ]
  },
  {
   "cell_type": "code",
   "execution_count": 124,
   "metadata": {},
   "outputs": [
    {
     "data": {
      "image/png": "[encoded data removed]",
      "text/plain": [
       "<Figure size 500x300 with 1 Axes>"
      ]
     },
     "metadata": {},
     "output_type": "display_data"
    }
   ],
   "source": [
    "import seaborn as sns\n",
    "import matplotlib.pyplot as plt\n",
    "p = sns.scatterplot(data = sales_vc, x = \"NumAppPurchases\", y = \"NumTakeAwayPurchases\", hue = clusters.labels_, legend = \"full\", palette = \"deep\")\n",
    "sns.move_legend(p, \"upper right\", bbox_to_anchor = (1.17, 1.), title = 'Clusters')\n",
    "plt.show()"
   ]
  },
  {
   "cell_type": "code",
   "execution_count": null,
   "metadata": {},
   "outputs": [],
   "source": []
  },
  {
   "cell_type": "markdown",
   "metadata": {},
   "source": [
    "## ran the code of this site: https://www.section.io/engineering-education/dbscan-clustering-in-python/"
   ]
  },
  {
   "cell_type": "code",
   "execution_count": 118,
   "metadata": {},
   "outputs": [],
   "source": [
    "from sklearn.neighbors import NearestNeighbors # importing the library\n",
    "neighb = NearestNeighbors(n_neighbors=2) # creating an object of the NearestNeighbors class\n",
    "nbrs=neighb.fit(sales_vc) # fitting the data to the object\n",
    "distances,indices=nbrs.kneighbors(sales_vc) # finding the nearest neighbours"
   ]
  },
  {
   "cell_type": "code",
   "execution_count": 119,
   "metadata": {},
   "outputs": [
    {
     "data": {
      "image/png": "[encoded data removed]",
      "text/plain": [
       "<Figure size 500x300 with 1 Axes>"
      ]
     },
     "metadata": {},
     "output_type": "display_data"
    }
   ],
   "source": [
    "# Sort and plot the distances results\n",
    "distances = np.sort(distances, axis = 0) # sorting the distances\n",
    "distances = distances[:, 1] # taking the second column of the sorted distances\n",
    "plt.rcParams['figure.figsize'] = (5,3) # setting the figure size\n",
    "plt.plot(distances) # plotting the distances\n",
    "plt.show() # showing the plot\n"
   ]
  },
  {
   "cell_type": "markdown",
   "metadata": {},
   "source": [
    "<div class=\"alert alert-block alert-info\">\n",
    "    \n",
    "<a id='stats_num'></a>\n",
    "\n",
    "### Fuzzy clustering \n",
    "    \n",
    "</div>"
   ]
  },
  {
   "cell_type": "code",
   "execution_count": 93,
   "metadata": {},
   "outputs": [
    {
     "name": "stdout",
     "output_type": "stream",
     "text": [
      "Collecting scikit-fuzzy\n",
      "  Downloading scikit-fuzzy-0.4.2.tar.gz (993 kB)\n",
      "\u001b[2K     \u001b[90m━━━━━━━━━━━━━━━━━━━━━━━━━━━━━━━━━━━━━━━\u001b[0m \u001b[32m994.0/994.0 kB\u001b[0m \u001b[31m9.0 MB/s\u001b[0m eta \u001b[36m0:00:00\u001b[0ma \u001b[36m0:00:01\u001b[0m\n",
      "\u001b[?25h  Preparing metadata (setup.py) ... \u001b[?25ldone\n",
      "\u001b[?25hRequirement already satisfied: numpy>=1.6.0 in /Users/jp/opt/anaconda3/lib/python3.9/site-packages (from scikit-fuzzy) (1.21.5)\n",
      "Requirement already satisfied: scipy>=0.9.0 in /Users/jp/opt/anaconda3/lib/python3.9/site-packages (from scikit-fuzzy) (1.9.1)\n",
      "Requirement already satisfied: networkx>=1.9.0 in /Users/jp/opt/anaconda3/lib/python3.9/site-packages (from scikit-fuzzy) (2.8.4)\n",
      "Building wheels for collected packages: scikit-fuzzy\n",
      "  Building wheel for scikit-fuzzy (setup.py) ... \u001b[?25ldone\n",
      "\u001b[?25h  Created wheel for scikit-fuzzy: filename=scikit_fuzzy-0.4.2-py3-none-any.whl size=894075 sha256=8d97763ae1f14d2bd7ae82fd6d9b9378bdc882f9500212e4963caec710d16177\n",
      "  Stored in directory: /Users/jp/Library/Caches/pip/wheels/32/2c/a1/a90a7d7dd8448ec029f298a61f3490275e99b17aa348be675c\n",
      "Successfully built scikit-fuzzy\n",
      "Installing collected packages: scikit-fuzzy\n",
      "Successfully installed scikit-fuzzy-0.4.2\n",
      "Note: you may need to restart the kernel to use updated packages.\n"
     ]
    }
   ],
   "source": [
    "pip install scikit-fuzzy"
   ]
  },
  {
   "cell_type": "code",
   "execution_count": 94,
   "metadata": {},
   "outputs": [],
   "source": [
    "from __future__ import division, print_function\n",
    "import numpy as np\n",
    "import matplotlib.pyplot as plt\n",
    "import skfuzzy as fuzz"
   ]
  }
 ],
 "metadata": {
  "kernelspec": {
   "display_name": "Python 3 (ipykernel)",
   "language": "python",
   "name": "python3"
  },
  "language_info": {
   "codemirror_mode": {
    "name": "ipython",
    "version": 3
   },
   "file_extension": ".py",
   "mimetype": "text/x-python",
   "name": "python",
   "nbconvert_exporter": "python",
   "pygments_lexer": "ipython3",
   "version": "3.9.13"
  }
 },
 "nbformat": 4,
 "nbformat_minor": 4
}
