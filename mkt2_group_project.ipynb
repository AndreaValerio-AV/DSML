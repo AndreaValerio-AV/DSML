{
 "cells": [
  {
   "cell_type": "markdown",
   "id": "fb050550",
   "metadata": {},
   "source": [
    "## IMPORTING PACKAGES"
   ]
  },
  {
   "cell_type": "code",
   "execution_count": 78,
   "id": "e2a0e2c6",
   "metadata": {},
   "outputs": [],
   "source": [
    "import pandas as pd\n",
    "import numpy as np\n",
    "import matplotlib.pyplot as plt\n",
    "import seaborn as sns"
   ]
  },
  {
   "cell_type": "markdown",
   "id": "e1066735",
   "metadata": {},
   "source": [
    "### Loading data"
   ]
  },
  {
   "cell_type": "code",
   "execution_count": 79,
   "id": "e4e8673d",
   "metadata": {
    "scrolled": true
   },
   "outputs": [
    {
     "data": {
      "text/html": [
       "<div>\n",
       "<style scoped>\n",
       "    .dataframe tbody tr th:only-of-type {\n",
       "        vertical-align: middle;\n",
       "    }\n",
       "\n",
       "    .dataframe tbody tr th {\n",
       "        vertical-align: top;\n",
       "    }\n",
       "\n",
       "    .dataframe thead th {\n",
       "        text-align: right;\n",
       "    }\n",
       "</style>\n",
       "<table border=\"1\" class=\"dataframe\">\n",
       "  <thead>\n",
       "    <tr style=\"text-align: right;\">\n",
       "      <th></th>\n",
       "      <th>CustomerID</th>\n",
       "      <th>Response_Cmp1</th>\n",
       "      <th>Response_Cmp2</th>\n",
       "      <th>Response_Cmp3</th>\n",
       "      <th>Response_Cmp4</th>\n",
       "      <th>Response_Cmp5</th>\n",
       "    </tr>\n",
       "  </thead>\n",
       "  <tbody>\n",
       "    <tr>\n",
       "      <th>0</th>\n",
       "      <td>31958</td>\n",
       "      <td>0</td>\n",
       "      <td>0</td>\n",
       "      <td>0</td>\n",
       "      <td>0</td>\n",
       "      <td>0</td>\n",
       "    </tr>\n",
       "    <tr>\n",
       "      <th>1</th>\n",
       "      <td>5387</td>\n",
       "      <td>0</td>\n",
       "      <td>0</td>\n",
       "      <td>0</td>\n",
       "      <td>0</td>\n",
       "      <td>0</td>\n",
       "    </tr>\n",
       "    <tr>\n",
       "      <th>2</th>\n",
       "      <td>32006</td>\n",
       "      <td>0</td>\n",
       "      <td>0</td>\n",
       "      <td>0</td>\n",
       "      <td>0</td>\n",
       "      <td>0</td>\n",
       "    </tr>\n",
       "  </tbody>\n",
       "</table>\n",
       "</div>"
      ],
      "text/plain": [
       "   CustomerID  Response_Cmp1  Response_Cmp2  Response_Cmp3  Response_Cmp4  \\\n",
       "0       31958              0              0              0              0   \n",
       "1        5387              0              0              0              0   \n",
       "2       32006              0              0              0              0   \n",
       "\n",
       "   Response_Cmp5  \n",
       "0              0  \n",
       "1              0  \n",
       "2              0  "
      ]
     },
     "execution_count": 79,
     "metadata": {},
     "output_type": "execute_result"
    }
   ],
   "source": [
    "df_mkt= pd.read_csv (r\"C:\\Users\\avalerio\\OneDrive - Microsoft\\Desktop\\NOVA\\DSML\\Clustering Project (1st Project)-20230318\\mkt.csv\")\n",
    "\n",
    "df_mkt .head (3)"
   ]
  },
  {
   "cell_type": "code",
   "execution_count": 80,
   "id": "3a71498e",
   "metadata": {},
   "outputs": [
    {
     "data": {
      "text/html": [
       "<div>\n",
       "<style scoped>\n",
       "    .dataframe tbody tr th:only-of-type {\n",
       "        vertical-align: middle;\n",
       "    }\n",
       "\n",
       "    .dataframe tbody tr th {\n",
       "        vertical-align: top;\n",
       "    }\n",
       "\n",
       "    .dataframe thead th {\n",
       "        text-align: right;\n",
       "    }\n",
       "</style>\n",
       "<table border=\"1\" class=\"dataframe\">\n",
       "  <thead>\n",
       "    <tr style=\"text-align: right;\">\n",
       "      <th></th>\n",
       "      <th>CustomerID</th>\n",
       "      <th>Response_Cmp1</th>\n",
       "      <th>Response_Cmp2</th>\n",
       "      <th>Response_Cmp3</th>\n",
       "      <th>Response_Cmp4</th>\n",
       "      <th>Response_Cmp5</th>\n",
       "    </tr>\n",
       "  </thead>\n",
       "  <tbody>\n",
       "    <tr>\n",
       "      <th>7020</th>\n",
       "      <td>18890</td>\n",
       "      <td>0</td>\n",
       "      <td>0</td>\n",
       "      <td>0</td>\n",
       "      <td>0</td>\n",
       "      <td>0</td>\n",
       "    </tr>\n",
       "    <tr>\n",
       "      <th>7021</th>\n",
       "      <td>30206</td>\n",
       "      <td>0</td>\n",
       "      <td>0</td>\n",
       "      <td>0</td>\n",
       "      <td>0</td>\n",
       "      <td>0</td>\n",
       "    </tr>\n",
       "    <tr>\n",
       "      <th>7022</th>\n",
       "      <td>16466</td>\n",
       "      <td>0</td>\n",
       "      <td>0</td>\n",
       "      <td>0</td>\n",
       "      <td>0</td>\n",
       "      <td>0</td>\n",
       "    </tr>\n",
       "  </tbody>\n",
       "</table>\n",
       "</div>"
      ],
      "text/plain": [
       "      CustomerID  Response_Cmp1  Response_Cmp2  Response_Cmp3  Response_Cmp4  \\\n",
       "7020       18890              0              0              0              0   \n",
       "7021       30206              0              0              0              0   \n",
       "7022       16466              0              0              0              0   \n",
       "\n",
       "      Response_Cmp5  \n",
       "7020              0  \n",
       "7021              0  \n",
       "7022              0  "
      ]
     },
     "execution_count": 80,
     "metadata": {},
     "output_type": "execute_result"
    }
   ],
   "source": [
    "df_mkt.tail (3)"
   ]
  },
  {
   "cell_type": "code",
   "execution_count": 81,
   "id": "b158d7f5",
   "metadata": {
    "scrolled": true
   },
   "outputs": [
    {
     "data": {
      "text/plain": [
       "(7023, 6)"
      ]
     },
     "execution_count": 81,
     "metadata": {},
     "output_type": "execute_result"
    }
   ],
   "source": [
    "df_mkt.shape"
   ]
  },
  {
   "cell_type": "code",
   "execution_count": 82,
   "id": "e7b39571",
   "metadata": {
    "scrolled": true
   },
   "outputs": [
    {
     "data": {
      "text/plain": [
       "CustomerID       int64\n",
       "Response_Cmp1    int64\n",
       "Response_Cmp2    int64\n",
       "Response_Cmp3    int64\n",
       "Response_Cmp4    int64\n",
       "Response_Cmp5    int64\n",
       "dtype: object"
      ]
     },
     "execution_count": 82,
     "metadata": {},
     "output_type": "execute_result"
    }
   ],
   "source": [
    "df_mkt.dtypes"
   ]
  },
  {
   "cell_type": "code",
   "execution_count": 83,
   "id": "377ff75d",
   "metadata": {},
   "outputs": [
    {
     "data": {
      "text/plain": [
       "Index(['CustomerID', 'Response_Cmp1', 'Response_Cmp2', 'Response_Cmp3',\n",
       "       'Response_Cmp4', 'Response_Cmp5'],\n",
       "      dtype='object')"
      ]
     },
     "execution_count": 83,
     "metadata": {},
     "output_type": "execute_result"
    }
   ],
   "source": [
    "df_mkt.columns"
   ]
  },
  {
   "cell_type": "code",
   "execution_count": 84,
   "id": "08936fb7",
   "metadata": {},
   "outputs": [],
   "source": [
    "df_mkt.rename(columns =\n",
    "                    {\"Response_Cmp1\" : \"Res_Cmp1\", \"Response_Cmp2\" : \"Res_Cmp2\", \n",
    "                     \"Response_Cmp3\": \"Res_Cmp3\", \"Response_Cmp4\" : \"Res_Cmp4\", \n",
    "                    \"Response_Cmp5\" : \"Res_Cmp5\"}, inplace= True\n",
    "             )"
   ]
  },
  {
   "cell_type": "markdown",
   "id": "c533584b",
   "metadata": {},
   "source": [
    "### Check for duplicates"
   ]
  },
  {
   "cell_type": "code",
   "execution_count": 85,
   "id": "2e00ec10",
   "metadata": {},
   "outputs": [
    {
     "data": {
      "text/plain": [
       "0       False\n",
       "1       False\n",
       "2       False\n",
       "3       False\n",
       "4       False\n",
       "        ...  \n",
       "7018    False\n",
       "7019    False\n",
       "7020    False\n",
       "7021    False\n",
       "7022    False\n",
       "Length: 7023, dtype: bool"
      ]
     },
     "execution_count": 85,
     "metadata": {},
     "output_type": "execute_result"
    }
   ],
   "source": [
    "df_mkt.duplicated(subset=['CustomerID'])"
   ]
  },
  {
   "cell_type": "code",
   "execution_count": 86,
   "id": "704f4740",
   "metadata": {
    "scrolled": false
   },
   "outputs": [
    {
     "data": {
      "text/plain": [
       "23"
      ]
     },
     "execution_count": 86,
     "metadata": {},
     "output_type": "execute_result"
    }
   ],
   "source": [
    "len(df_mkt['CustomerID'])-len(df_mkt['CustomerID'].drop_duplicates())"
   ]
  },
  {
   "cell_type": "code",
   "execution_count": 87,
   "id": "cec35989",
   "metadata": {
    "scrolled": false
   },
   "outputs": [
    {
     "data": {
      "text/html": [
       "<div>\n",
       "<style scoped>\n",
       "    .dataframe tbody tr th:only-of-type {\n",
       "        vertical-align: middle;\n",
       "    }\n",
       "\n",
       "    .dataframe tbody tr th {\n",
       "        vertical-align: top;\n",
       "    }\n",
       "\n",
       "    .dataframe thead th {\n",
       "        text-align: right;\n",
       "    }\n",
       "</style>\n",
       "<table border=\"1\" class=\"dataframe\">\n",
       "  <thead>\n",
       "    <tr style=\"text-align: right;\">\n",
       "      <th></th>\n",
       "      <th>CustomerID</th>\n",
       "      <th>Res_Cmp1</th>\n",
       "      <th>Res_Cmp2</th>\n",
       "      <th>Res_Cmp3</th>\n",
       "      <th>Res_Cmp4</th>\n",
       "      <th>Res_Cmp5</th>\n",
       "    </tr>\n",
       "  </thead>\n",
       "  <tbody>\n",
       "    <tr>\n",
       "      <th>0</th>\n",
       "      <td>False</td>\n",
       "      <td>False</td>\n",
       "      <td>False</td>\n",
       "      <td>False</td>\n",
       "      <td>False</td>\n",
       "      <td>False</td>\n",
       "    </tr>\n",
       "    <tr>\n",
       "      <th>1</th>\n",
       "      <td>False</td>\n",
       "      <td>False</td>\n",
       "      <td>False</td>\n",
       "      <td>False</td>\n",
       "      <td>False</td>\n",
       "      <td>False</td>\n",
       "    </tr>\n",
       "    <tr>\n",
       "      <th>2</th>\n",
       "      <td>False</td>\n",
       "      <td>False</td>\n",
       "      <td>False</td>\n",
       "      <td>False</td>\n",
       "      <td>False</td>\n",
       "      <td>False</td>\n",
       "    </tr>\n",
       "    <tr>\n",
       "      <th>3</th>\n",
       "      <td>False</td>\n",
       "      <td>False</td>\n",
       "      <td>False</td>\n",
       "      <td>False</td>\n",
       "      <td>False</td>\n",
       "      <td>False</td>\n",
       "    </tr>\n",
       "    <tr>\n",
       "      <th>4</th>\n",
       "      <td>False</td>\n",
       "      <td>False</td>\n",
       "      <td>False</td>\n",
       "      <td>False</td>\n",
       "      <td>False</td>\n",
       "      <td>False</td>\n",
       "    </tr>\n",
       "    <tr>\n",
       "      <th>...</th>\n",
       "      <td>...</td>\n",
       "      <td>...</td>\n",
       "      <td>...</td>\n",
       "      <td>...</td>\n",
       "      <td>...</td>\n",
       "      <td>...</td>\n",
       "    </tr>\n",
       "    <tr>\n",
       "      <th>7018</th>\n",
       "      <td>False</td>\n",
       "      <td>False</td>\n",
       "      <td>False</td>\n",
       "      <td>False</td>\n",
       "      <td>False</td>\n",
       "      <td>False</td>\n",
       "    </tr>\n",
       "    <tr>\n",
       "      <th>7019</th>\n",
       "      <td>False</td>\n",
       "      <td>False</td>\n",
       "      <td>False</td>\n",
       "      <td>False</td>\n",
       "      <td>False</td>\n",
       "      <td>False</td>\n",
       "    </tr>\n",
       "    <tr>\n",
       "      <th>7020</th>\n",
       "      <td>False</td>\n",
       "      <td>False</td>\n",
       "      <td>False</td>\n",
       "      <td>False</td>\n",
       "      <td>False</td>\n",
       "      <td>False</td>\n",
       "    </tr>\n",
       "    <tr>\n",
       "      <th>7021</th>\n",
       "      <td>False</td>\n",
       "      <td>False</td>\n",
       "      <td>False</td>\n",
       "      <td>False</td>\n",
       "      <td>False</td>\n",
       "      <td>False</td>\n",
       "    </tr>\n",
       "    <tr>\n",
       "      <th>7022</th>\n",
       "      <td>False</td>\n",
       "      <td>False</td>\n",
       "      <td>False</td>\n",
       "      <td>False</td>\n",
       "      <td>False</td>\n",
       "      <td>False</td>\n",
       "    </tr>\n",
       "  </tbody>\n",
       "</table>\n",
       "<p>7023 rows × 6 columns</p>\n",
       "</div>"
      ],
      "text/plain": [
       "      CustomerID  Res_Cmp1  Res_Cmp2  Res_Cmp3  Res_Cmp4  Res_Cmp5\n",
       "0          False     False     False     False     False     False\n",
       "1          False     False     False     False     False     False\n",
       "2          False     False     False     False     False     False\n",
       "3          False     False     False     False     False     False\n",
       "4          False     False     False     False     False     False\n",
       "...          ...       ...       ...       ...       ...       ...\n",
       "7018       False     False     False     False     False     False\n",
       "7019       False     False     False     False     False     False\n",
       "7020       False     False     False     False     False     False\n",
       "7021       False     False     False     False     False     False\n",
       "7022       False     False     False     False     False     False\n",
       "\n",
       "[7023 rows x 6 columns]"
      ]
     },
     "execution_count": 87,
     "metadata": {},
     "output_type": "execute_result"
    }
   ],
   "source": [
    "#check for missing value\n",
    "\n",
    "df_mkt.isna()"
   ]
  },
  {
   "cell_type": "code",
   "execution_count": 88,
   "id": "6a4f7f10",
   "metadata": {
    "scrolled": false
   },
   "outputs": [
    {
     "data": {
      "text/html": [
       "<div>\n",
       "<style scoped>\n",
       "    .dataframe tbody tr th:only-of-type {\n",
       "        vertical-align: middle;\n",
       "    }\n",
       "\n",
       "    .dataframe tbody tr th {\n",
       "        vertical-align: top;\n",
       "    }\n",
       "\n",
       "    .dataframe thead th {\n",
       "        text-align: right;\n",
       "    }\n",
       "</style>\n",
       "<table border=\"1\" class=\"dataframe\">\n",
       "  <thead>\n",
       "    <tr style=\"text-align: right;\">\n",
       "      <th></th>\n",
       "      <th>CustomerID</th>\n",
       "      <th>Res_Cmp1</th>\n",
       "      <th>Res_Cmp2</th>\n",
       "      <th>Res_Cmp3</th>\n",
       "      <th>Res_Cmp4</th>\n",
       "      <th>Res_Cmp5</th>\n",
       "    </tr>\n",
       "  </thead>\n",
       "  <tbody>\n",
       "    <tr>\n",
       "      <th>0</th>\n",
       "      <td>31958</td>\n",
       "      <td>0</td>\n",
       "      <td>0</td>\n",
       "      <td>0</td>\n",
       "      <td>0</td>\n",
       "      <td>0</td>\n",
       "    </tr>\n",
       "    <tr>\n",
       "      <th>1</th>\n",
       "      <td>5387</td>\n",
       "      <td>0</td>\n",
       "      <td>0</td>\n",
       "      <td>0</td>\n",
       "      <td>0</td>\n",
       "      <td>0</td>\n",
       "    </tr>\n",
       "    <tr>\n",
       "      <th>2</th>\n",
       "      <td>32006</td>\n",
       "      <td>0</td>\n",
       "      <td>0</td>\n",
       "      <td>0</td>\n",
       "      <td>0</td>\n",
       "      <td>0</td>\n",
       "    </tr>\n",
       "    <tr>\n",
       "      <th>3</th>\n",
       "      <td>7511</td>\n",
       "      <td>0</td>\n",
       "      <td>0</td>\n",
       "      <td>0</td>\n",
       "      <td>0</td>\n",
       "      <td>0</td>\n",
       "    </tr>\n",
       "    <tr>\n",
       "      <th>4</th>\n",
       "      <td>12308</td>\n",
       "      <td>0</td>\n",
       "      <td>0</td>\n",
       "      <td>0</td>\n",
       "      <td>0</td>\n",
       "      <td>0</td>\n",
       "    </tr>\n",
       "    <tr>\n",
       "      <th>...</th>\n",
       "      <td>...</td>\n",
       "      <td>...</td>\n",
       "      <td>...</td>\n",
       "      <td>...</td>\n",
       "      <td>...</td>\n",
       "      <td>...</td>\n",
       "    </tr>\n",
       "    <tr>\n",
       "      <th>7018</th>\n",
       "      <td>22358</td>\n",
       "      <td>0</td>\n",
       "      <td>0</td>\n",
       "      <td>0</td>\n",
       "      <td>0</td>\n",
       "      <td>0</td>\n",
       "    </tr>\n",
       "    <tr>\n",
       "      <th>7019</th>\n",
       "      <td>29516</td>\n",
       "      <td>0</td>\n",
       "      <td>0</td>\n",
       "      <td>0</td>\n",
       "      <td>0</td>\n",
       "      <td>0</td>\n",
       "    </tr>\n",
       "    <tr>\n",
       "      <th>7020</th>\n",
       "      <td>18890</td>\n",
       "      <td>0</td>\n",
       "      <td>0</td>\n",
       "      <td>0</td>\n",
       "      <td>0</td>\n",
       "      <td>0</td>\n",
       "    </tr>\n",
       "    <tr>\n",
       "      <th>7021</th>\n",
       "      <td>30206</td>\n",
       "      <td>0</td>\n",
       "      <td>0</td>\n",
       "      <td>0</td>\n",
       "      <td>0</td>\n",
       "      <td>0</td>\n",
       "    </tr>\n",
       "    <tr>\n",
       "      <th>7022</th>\n",
       "      <td>16466</td>\n",
       "      <td>0</td>\n",
       "      <td>0</td>\n",
       "      <td>0</td>\n",
       "      <td>0</td>\n",
       "      <td>0</td>\n",
       "    </tr>\n",
       "  </tbody>\n",
       "</table>\n",
       "<p>7000 rows × 6 columns</p>\n",
       "</div>"
      ],
      "text/plain": [
       "      CustomerID  Res_Cmp1  Res_Cmp2  Res_Cmp3  Res_Cmp4  Res_Cmp5\n",
       "0          31958         0         0         0         0         0\n",
       "1           5387         0         0         0         0         0\n",
       "2          32006         0         0         0         0         0\n",
       "3           7511         0         0         0         0         0\n",
       "4          12308         0         0         0         0         0\n",
       "...          ...       ...       ...       ...       ...       ...\n",
       "7018       22358         0         0         0         0         0\n",
       "7019       29516         0         0         0         0         0\n",
       "7020       18890         0         0         0         0         0\n",
       "7021       30206         0         0         0         0         0\n",
       "7022       16466         0         0         0         0         0\n",
       "\n",
       "[7000 rows x 6 columns]"
      ]
     },
     "execution_count": 88,
     "metadata": {},
     "output_type": "execute_result"
    }
   ],
   "source": [
    "df_mkt.drop_duplicates(subset=['CustomerID'], inplace=True)\n",
    "\n",
    "df_mkt"
   ]
  },
  {
   "cell_type": "code",
   "execution_count": 89,
   "id": "1ed621eb",
   "metadata": {},
   "outputs": [
    {
     "data": {
      "text/plain": [
       "CustomerID    0\n",
       "Res_Cmp1      0\n",
       "Res_Cmp2      0\n",
       "Res_Cmp3      0\n",
       "Res_Cmp4      0\n",
       "Res_Cmp5      0\n",
       "dtype: int64"
      ]
     },
     "execution_count": 89,
     "metadata": {},
     "output_type": "execute_result"
    }
   ],
   "source": [
    "df_mkt.isna().sum()"
   ]
  },
  {
   "cell_type": "code",
   "execution_count": 90,
   "id": "c3df3e62",
   "metadata": {
    "scrolled": true
   },
   "outputs": [
    {
     "data": {
      "text/html": [
       "<div>\n",
       "<style scoped>\n",
       "    .dataframe tbody tr th:only-of-type {\n",
       "        vertical-align: middle;\n",
       "    }\n",
       "\n",
       "    .dataframe tbody tr th {\n",
       "        vertical-align: top;\n",
       "    }\n",
       "\n",
       "    .dataframe thead th {\n",
       "        text-align: right;\n",
       "    }\n",
       "</style>\n",
       "<table border=\"1\" class=\"dataframe\">\n",
       "  <thead>\n",
       "    <tr style=\"text-align: right;\">\n",
       "      <th></th>\n",
       "      <th>CustomerID</th>\n",
       "      <th>Res_Cmp1</th>\n",
       "      <th>Res_Cmp2</th>\n",
       "      <th>Res_Cmp3</th>\n",
       "      <th>Res_Cmp4</th>\n",
       "      <th>Res_Cmp5</th>\n",
       "    </tr>\n",
       "  </thead>\n",
       "  <tbody>\n",
       "    <tr>\n",
       "      <th>count</th>\n",
       "      <td>7000.000000</td>\n",
       "      <td>7000.000000</td>\n",
       "      <td>7000.000000</td>\n",
       "      <td>7000.000000</td>\n",
       "      <td>7000.000000</td>\n",
       "      <td>7000.000000</td>\n",
       "    </tr>\n",
       "    <tr>\n",
       "      <th>mean</th>\n",
       "      <td>20066.401571</td>\n",
       "      <td>0.079143</td>\n",
       "      <td>0.073286</td>\n",
       "      <td>0.083000</td>\n",
       "      <td>0.065857</td>\n",
       "      <td>0.014286</td>\n",
       "    </tr>\n",
       "    <tr>\n",
       "      <th>std</th>\n",
       "      <td>8684.030062</td>\n",
       "      <td>0.269981</td>\n",
       "      <td>0.260624</td>\n",
       "      <td>0.275902</td>\n",
       "      <td>0.248050</td>\n",
       "      <td>0.118675</td>\n",
       "    </tr>\n",
       "    <tr>\n",
       "      <th>min</th>\n",
       "      <td>5078.000000</td>\n",
       "      <td>0.000000</td>\n",
       "      <td>0.000000</td>\n",
       "      <td>0.000000</td>\n",
       "      <td>0.000000</td>\n",
       "      <td>0.000000</td>\n",
       "    </tr>\n",
       "    <tr>\n",
       "      <th>25%</th>\n",
       "      <td>12507.500000</td>\n",
       "      <td>0.000000</td>\n",
       "      <td>0.000000</td>\n",
       "      <td>0.000000</td>\n",
       "      <td>0.000000</td>\n",
       "      <td>0.000000</td>\n",
       "    </tr>\n",
       "    <tr>\n",
       "      <th>50%</th>\n",
       "      <td>20099.000000</td>\n",
       "      <td>0.000000</td>\n",
       "      <td>0.000000</td>\n",
       "      <td>0.000000</td>\n",
       "      <td>0.000000</td>\n",
       "      <td>0.000000</td>\n",
       "    </tr>\n",
       "    <tr>\n",
       "      <th>75%</th>\n",
       "      <td>27587.750000</td>\n",
       "      <td>0.000000</td>\n",
       "      <td>0.000000</td>\n",
       "      <td>0.000000</td>\n",
       "      <td>0.000000</td>\n",
       "      <td>0.000000</td>\n",
       "    </tr>\n",
       "    <tr>\n",
       "      <th>max</th>\n",
       "      <td>35072.000000</td>\n",
       "      <td>1.000000</td>\n",
       "      <td>1.000000</td>\n",
       "      <td>1.000000</td>\n",
       "      <td>1.000000</td>\n",
       "      <td>1.000000</td>\n",
       "    </tr>\n",
       "  </tbody>\n",
       "</table>\n",
       "</div>"
      ],
      "text/plain": [
       "         CustomerID     Res_Cmp1     Res_Cmp2     Res_Cmp3     Res_Cmp4  \\\n",
       "count   7000.000000  7000.000000  7000.000000  7000.000000  7000.000000   \n",
       "mean   20066.401571     0.079143     0.073286     0.083000     0.065857   \n",
       "std     8684.030062     0.269981     0.260624     0.275902     0.248050   \n",
       "min     5078.000000     0.000000     0.000000     0.000000     0.000000   \n",
       "25%    12507.500000     0.000000     0.000000     0.000000     0.000000   \n",
       "50%    20099.000000     0.000000     0.000000     0.000000     0.000000   \n",
       "75%    27587.750000     0.000000     0.000000     0.000000     0.000000   \n",
       "max    35072.000000     1.000000     1.000000     1.000000     1.000000   \n",
       "\n",
       "          Res_Cmp5  \n",
       "count  7000.000000  \n",
       "mean      0.014286  \n",
       "std       0.118675  \n",
       "min       0.000000  \n",
       "25%       0.000000  \n",
       "50%       0.000000  \n",
       "75%       0.000000  \n",
       "max       1.000000  "
      ]
     },
     "execution_count": 90,
     "metadata": {},
     "output_type": "execute_result"
    }
   ],
   "source": [
    "df_mkt.describe()"
   ]
  },
  {
   "cell_type": "code",
   "execution_count": 91,
   "id": "af323aee",
   "metadata": {},
   "outputs": [
    {
     "data": {
      "text/plain": [
       "CustomerID  Res_Cmp1  Res_Cmp2  Res_Cmp3  Res_Cmp4  Res_Cmp5\n",
       "5078        0         1         0         0         0           1\n",
       "5081        0         0         0         0         0           1\n",
       "5084        1         0         0         0         0           1\n",
       "5087        0         0         0         0         0           1\n",
       "5090        0         0         0         1         0           1\n",
       "                                                               ..\n",
       "35057       0         0         0         0         0           1\n",
       "35063       0         0         0         1         0           1\n",
       "35066       0         1         1         0         0           1\n",
       "35069       0         0         0         0         0           1\n",
       "35072       0         0         0         0         0           1\n",
       "Length: 7000, dtype: int64"
      ]
     },
     "execution_count": 91,
     "metadata": {},
     "output_type": "execute_result"
    }
   ],
   "source": [
    "df_mkt.groupby(['CustomerID'])[['Res_Cmp1', 'Res_Cmp2','Res_Cmp3','Res_Cmp4', 'Res_Cmp5']].value_counts()"
   ]
  },
  {
   "cell_type": "code",
   "execution_count": 92,
   "id": "d24ddba7",
   "metadata": {},
   "outputs": [
    {
     "name": "stdout",
     "output_type": "stream",
     "text": [
      "                                              CustomerID\n",
      "Res_Cmp1 Res_Cmp2 Res_Cmp3 Res_Cmp4 Res_Cmp5            \n",
      "0        0        0        0        0               5439\n",
      "                                    1                 12\n",
      "                           1        0                150\n",
      "                  1        0        0                232\n",
      "                                    1                  3\n",
      "                           1        0                 89\n",
      "                                    1                  8\n",
      "         1        0        0        0                263\n",
      "                                    1                 16\n",
      "                           1        0                 47\n",
      "                                    1                  6\n",
      "                  1        0        0                 84\n",
      "                                    1                  8\n",
      "                           1        0                 60\n",
      "                                    1                 29\n",
      "1        0        0        0        0                446\n",
      "                                    1                  7\n",
      "                           1        0                 32\n",
      "                                    1                  1\n",
      "                  1        0        0                 25\n",
      "                                    1                  4\n",
      "                           1        0                 33\n",
      "                                    1                  6\n"
     ]
    }
   ],
   "source": [
    "# groupby() function to count 0 and 1 values in each column\n",
    "mkt = df_mkt.groupby(['Res_Cmp1', 'Res_Cmp2','Res_Cmp3','Res_Cmp4', 'Res_Cmp5']).count()\n",
    "\n",
    "print(mkt)\n"
   ]
  },
  {
   "cell_type": "code",
   "execution_count": 93,
   "id": "bc51cf7b",
   "metadata": {},
   "outputs": [
    {
     "name": "stdout",
     "output_type": "stream",
     "text": [
      "Res_Cmp1    6446\n",
      "Res_Cmp2    6487\n",
      "Res_Cmp3    6419\n",
      "Res_Cmp4    6539\n",
      "Res_Cmp5    6900\n",
      "dtype: int64\n"
     ]
    }
   ],
   "source": [
    "no_action = df_mkt[['Res_Cmp1', 'Res_Cmp2','Res_Cmp3','Res_Cmp4', 'Res_Cmp5']].apply(lambda x: x.eq(0).sum())\n",
    "\n",
    "print(no_action)\n"
   ]
  },
  {
   "cell_type": "code",
   "execution_count": 94,
   "id": "224cd8dd",
   "metadata": {},
   "outputs": [
    {
     "name": "stdout",
     "output_type": "stream",
     "text": [
      "Res_Cmp1    554\n",
      "Res_Cmp2    513\n",
      "Res_Cmp3    581\n",
      "Res_Cmp4    461\n",
      "Res_Cmp5    100\n",
      "dtype: int64\n"
     ]
    }
   ],
   "source": [
    "success_rate = df_mkt[['Res_Cmp1', 'Res_Cmp2','Res_Cmp3','Res_Cmp4', 'Res_Cmp5']].apply(lambda x: x.eq(1).sum())\n",
    "\n",
    "print(success_rate)"
   ]
  },
  {
   "cell_type": "code",
   "execution_count": 95,
   "id": "811f4fd8",
   "metadata": {},
   "outputs": [
    {
     "data": {
      "image/png": "[encoded data removed]",
      "text/plain": [
       "<Figure size 1000x800 with 1 Axes>"
      ]
     },
     "metadata": {},
     "output_type": "display_data"
    }
   ],
   "source": [
    "fig, ax = plt.subplots(figsize=(10,8))\n",
    "ax.bar(df_mkt.columns[1:], df_mkt.eq(1).count()[:-1].values, label='1')\n",
    "ax.bar(df_mkt.columns[1:], df_mkt.eq(1).count()[:-1].values, bottom=df_mkt.eq(1).sum()[:-1].values, label='0')\n",
    "ax.legend()\n",
    "ax.grid(True, linestyle='--', color='gray', alpha=0.5)\n",
    "plt.show()\n"
   ]
  },
  {
   "cell_type": "code",
   "execution_count": null,
   "id": "d7fc6b20",
   "metadata": {},
   "outputs": [],
   "source": []
  }
 ],
 "metadata": {
  "kernelspec": {
   "display_name": "Python 3 (ipykernel)",
   "language": "python",
   "name": "python3"
  },
  "language_info": {
   "codemirror_mode": {
    "name": "ipython",
    "version": 3
   },
   "file_extension": ".py",
   "mimetype": "text/x-python",
   "name": "python",
   "nbconvert_exporter": "python",
   "pygments_lexer": "ipython3",
   "version": "3.9.13"
  }
 },
 "nbformat": 4,
 "nbformat_minor": 5
}
