{
 "cells": [
  {
   "cell_type": "markdown",
   "id": "8e41e9d6",
   "metadata": {},
   "source": [
    "# Programming for Data Science 2023 - Assignment\n",
    "\n",
    "## Overview\n",
    "\n",
    "**Goal**\n",
    "\n",
    "The goal of the midterm assignment is to test your familiarity with the concepts you have learned during the first 5 weeks of the semester.<br>\n",
    "Above all, it is an opportunity for you to challenge yourself and practice. If you are having difficulties with the assignment, reach out for support through the Discussion Forum.\n",
    "\n",
    "The assignment is divided into <ins>2 parts</ins>:\n",
    "1. Python basics - Explore core building blocks of programming, focusing on variables, data structures, and their manipulation\n",
    "2. K-Means from scratch - Build an unsupervised learning algorithm step by step\n",
    "\n",
    "**Rules**\n",
    "- <ins>You can only use packages from the Python Standard Library (built-in), namely https://docs.python.org/3/library/ (this means no pandas, numpy, scikit-learn, etc.)</ins>\n",
    "- Make sure that you don't have errors in your code. If you don't know how to do a specific question, leave it as it was. You should do a clean run all, in the end, to make sure all cells run without errors\n",
    "- You should limit your code to fill the question function and an extra block for testing. Please avoid creating many code blocks\n",
    "- Make sure your notebook name is unchanged from `python_assignment`\n",
    "- Make sure that you save the requested contents in a folder named accordingly to the rules: `<student_number>_<firstname>_<lastname>`\n",
    "- Make sure to zip your final folder\n",
    "\n",
    "## Grading\n",
    "\n",
    "- This assignment will be graded from 0 to 20 points\n",
    "- The assignment is worth 40% (8.00 values) of your final grade\n",
    "- Each question has its corresponding score associated, e.g. `Q1 [1.0p]`\n",
    "- Each question will be automatically validated against a set of scenarios and graded accordingly\n",
    "- If your code does not run (e.g. you click *run all* and errors are raised in one or more questions), there will be a penalty of 0.5 points per error\n",
    "- Questions that raise errors by default will not be graded\n",
    "- A penalty of 0.5 points will be applied per file missing in the delivery of required content\n",
    "- A penalty of 1.0 points will be applied per day late to late deliveries\n",
    "\n",
    "\n",
    "## Delivery\n",
    "- Deadline: **02 April 2023 23:59:59**\n",
    "- Format: `.zip`\n",
    "- Name: `<student_number>_<firstname>_<lastname>`\n",
    "- You should deliver the following contents:\n",
    "    - `python_assignment.ipynb` - Your jupyter notebook assignment solved\n",
    "    - `python_assignment.html` - A PDF HTML export of notebook that you can get by going to `File > Download as > PDF via HTML (.html)`\n",
    "- Where: Submission is done through the respective Moodle activity\n",
    "- You should not change the name of the notebook `python_assignment`\n",
    "\n",
    "```\n",
    "# Example of good submission\n",
    "20230101_john_smith.zip\n",
    "├── 20230101_john_smith\n",
    "│   └── python_assignment.ipynb\n",
    "│   └── python_assignment.html\n",
    "\n",
    "# Another example of a good submission\n",
    "20230101_john_smith.zip\n",
    "├── python_assignment.ipynb\n",
    "├── python_assignment.html\n",
    "\n",
    "# Example of bad submission\n",
    "# In this example the zip name is wrong\n",
    "# And the notebook name is wrong\n",
    "# And it does not contain all elements (missing .html)\n",
    "john_smith_FINAL_FINAL_2.zip\n",
    "├── john_smith_FINAL_FINAL_2\n",
    "│   └── my_notebook.ipynb\n",
    "```\n",
    "\n",
    "\n",
    "## How to\n",
    "\n",
    "Each question consists of a function template that you have to fill in to achieve the requested solution. By making it into a function, we can automatically call your function and check it against a series of scenarios to make sure it's okay.\n",
    "\n",
    "For example:\n",
    "\n",
    "```\n",
    "# Q1: Fill the function sum_numbers(a, b) that takes two integers 'a' and 'b' and returns the sum of both.\n",
    "\n",
    "def sum_numbers(a, b):\n",
    "    # your code here\n",
    "    pass\n",
    "```\n",
    "\n",
    "By default, each function will have the command `pass` so that nothing will happen when the function runs (and no error is raised). You should replace it with your code. <br>\n",
    "Here's how you should complete the exercise\n",
    "\n",
    "```\n",
    "def sum_numbers(a, b):\n",
    "    sum_of_numbers = a + b\n",
    "    return sum_of_numbers\n",
    "```\n",
    "And then you can test your code\n",
    "```\n",
    "[In]: sum_numbers(3, 2)\n",
    "[Out]: 5\n",
    "```\n",
    "\n",
    "Most questions have three parts:\n",
    "1. The instruction\n",
    "2. An example\n",
    "3. Assumptions (you can take them as truth)\n",
    "\n",
    "For example, if the assumption of the above function is `a and b are always integers and > 0` then you know that in our test scenarios, we will never test it with something such as `sum_numbers(-5, 10)` or `sum_numbers(1.2, 3.5)`.\n",
    "\n",
    "---"
   ]
  },
  {
   "cell_type": "markdown",
   "id": "d6ee0113",
   "metadata": {},
   "source": [
    "## Imports\n",
    "Import any library you require here. For example, `random` is already imported for you.<br>\n",
    "Remember you are only allowed to use <ins>built-in python libraries</ins> as stated before, which can be found here: https://docs.python.org/3/library/"
   ]
  },
  {
   "cell_type": "code",
   "execution_count": 1,
   "id": "81e45ab2",
   "metadata": {
    "tags": []
   },
   "outputs": [],
   "source": [
    "import random"
   ]
  },
  {
   "cell_type": "markdown",
   "id": "e732c62f",
   "metadata": {},
   "source": [
    "## Part I - Python Basics [10.0p]"
   ]
  },
  {
   "cell_type": "markdown",
   "id": "b66bc44a",
   "metadata": {},
   "source": []
  },
  {
   "cell_type": "markdown",
   "id": "160d08af",
   "metadata": {},
   "source": [
    "Q1 [0.25p]: Create the function:\n",
    "```\n",
    "def solve_equation(x)\n",
    "```\n",
    "\n",
    "that, given a number `x`, returns `y` according to the following equation:\n",
    "\\begin{equation}\n",
    "    y = 6x^2 + 3x + 2\n",
    "\\end{equation}\n",
    "\n",
    "For example:\n",
    "```\n",
    "[In]: solve_equation(2)\n",
    "[Out]: 32\n",
    "```\n",
    "\n",
    "Assume that:\n",
    "- `x` is a non-empty integer or float within [-10^5, 10^5]"
   ]
  },
  {
   "cell_type": "code",
   "execution_count": 2,
   "id": "62ef6194",
   "metadata": {},
   "outputs": [],
   "source": [
    "def solve_equation(x):\n",
    "    return 6*(x**2) + 3*x +2"
   ]
  },
  {
   "cell_type": "markdown",
   "id": "086b40a8",
   "metadata": {},
   "source": [
    "---\n",
    "Q2 [0.25p]: Create the function:\n",
    "```\n",
    "def check_odds(numbers)\n",
    "```\n",
    "that, given a list `numbers` of positive integer numbers, checks if the total ammount of odd observations is higher than the total amount of even observations. If the total of odds is higher, it should return the boolean value `True`, otherwise it should return the boolean value `False`.\n",
    "\n",
    "For example:\n",
    "```\n",
    "[In]: check_odds([1, 2, 3, 4, 5])\n",
    "[Out]: True\n",
    "```\n",
    "\n",
    "Assume that:\n",
    "- the length of `numbers` is non-empty and at most 10^5\n",
    "- each N in `numbers` is an integer within [0, 10^5]\n",
    "- there is at least 1 odd number in `numbers`"
   ]
  },
  {
   "cell_type": "code",
   "execution_count": 3,
   "id": "59a8cd91",
   "metadata": {},
   "outputs": [],
   "source": [
    "def check_odds(numbers):\n",
    "    list_odd=list(filter(lambda x: x%2 != 0, numbers))\n",
    "    list_even=list(filter(lambda x: x%2 == 0, numbers))\n",
    "    return len(list_odd)> len(list_even)"
   ]
  },
  {
   "cell_type": "markdown",
   "id": "30091254",
   "metadata": {},
   "source": [
    "---\n",
    "Q3 [0.5p]: Create the function:\n",
    "```\n",
    "generate_numbers(n)\n",
    "```\n",
    "that, given a positive integer `n` returns a list of n randomly sampled integers (allows replacement) between -25 (inclusive) and 25 (inclusive).\n",
    "\n",
    "\n",
    "For example:\n",
    "```\n",
    "[In]: generate_numbers(5)\n",
    "[Out]: [10, 5, 0, -5, 2]\n",
    "```\n",
    "In the previous example, `n=5` returns 5 randomly sampled numbers.\n",
    "\n",
    "Assume that:\n",
    "- `n` is a non-empty integer and at most 10^5"
   ]
  },
  {
   "cell_type": "code",
   "execution_count": 4,
   "id": "1bf91d1c",
   "metadata": {},
   "outputs": [],
   "source": [
    "def generate_numbers(n):\n",
    "    final=[]\n",
    "    import random\n",
    "    for i in range(n):\n",
    "        final.append(random.randint(-25,26))\n",
    "    return final"
   ]
  },
  {
   "cell_type": "markdown",
   "id": "5a65af40",
   "metadata": {},
   "source": [
    "---\n",
    "Q4 [0.5p]: Create the function:\n",
    "```\n",
    "def update_list(numbers)\n",
    "```\n",
    "that, given a list of integers `numbers`, the function uses the function `map()` to return a new list that obeys to these rules: \n",
    "\n",
    "For each value in the input list:\n",
    "- if the element is even, you should add 1\n",
    "- otherwise, if the element is odd, you should subtract 1.\n",
    "\n",
    "For example:\n",
    "```\n",
    "[In]: update_list([0, 1, 2, 3])\n",
    "[Out]: [1, 0, 3, 2]\n",
    "```\n",
    "\n",
    "Assume that:\n",
    "- the length of `numbers` is non-empty and at most 10^5\n",
    "- each N in `numbers` is an integer within [-10^5, 10^5]"
   ]
  },
  {
   "cell_type": "code",
   "execution_count": 5,
   "id": "fa4c7760",
   "metadata": {},
   "outputs": [],
   "source": [
    "def update_list(numbers):\n",
    "    def op(i):\n",
    "        if i%2==0:\n",
    "            return i+1\n",
    "        return i-1\n",
    "    return list(map(op, numbers))"
   ]
  },
  {
   "cell_type": "markdown",
   "id": "bac73716",
   "metadata": {},
   "source": [
    "---\n",
    "Q5 [0.5p]: Create the function:\n",
    "```\n",
    "def get_logs10(numbers)\n",
    "```\n",
    "that, given a list of positive integer `numbers`, returns a new list where each element is the logarithm of base 10 of each value in `numbers`. You should use the function `map` to achieve this.\n",
    "\n",
    "For example:\n",
    "```\n",
    "[In]: get_logs10([1, 2, 3])\n",
    "[Out]: [0.0, 0.3010299956639812, 0.47712125471966244]\n",
    "```\n",
    "\n",
    "Assume that:\n",
    "- the length of `numbers` is non-empty and at most 10^5\n",
    "- each N in `numbers` is an integer within ]0, 10^5]\n",
    "\n",
    "*Hint: You can use the module `math` to compute the logarithm*"
   ]
  },
  {
   "cell_type": "code",
   "execution_count": 6,
   "id": "997c2ffe",
   "metadata": {},
   "outputs": [],
   "source": [
    "def get_logs10(numbers):\n",
    "    from math import log10\n",
    "    return list(map(lambda x: log10(x), numbers))"
   ]
  },
  {
   "cell_type": "markdown",
   "id": "1d731583",
   "metadata": {},
   "source": [
    "---\n",
    "Q6 [0.5p]: Create the function:\n",
    "```\n",
    "def greatness_evaluator(numbers, cap)\n",
    "```\n",
    "that, given a list of integer `numbers` and an integer `cap` returns the number of elements in `numbers` that are greater than `cap`. You should use the function `filter()` to achieve this.\n",
    "\n",
    "For example:\n",
    "\n",
    "```\n",
    "[In]: greatness_evaluator(numbers=[50, 200, 300], cap=100)\n",
    "[Out]: 2\n",
    "```\n",
    "\n",
    "Assume that:\n",
    "- length of `numbers` > 0\n",
    "- each N in `numbers` is an integer within [-inf, inf]\n",
    "- `cap` is an integer within [-inf, inf]"
   ]
  },
  {
   "cell_type": "code",
   "execution_count": 7,
   "id": "57c8cce6",
   "metadata": {},
   "outputs": [],
   "source": [
    "def greatness_evaluator(numbers,cap):\n",
    "\treturn len(list(filter(lambda x: x>cap, numbers)))"
   ]
  },
  {
   "cell_type": "markdown",
   "id": "9478da7c",
   "metadata": {},
   "source": [
    "---\n",
    "Q7 [0.5p]: Create the function:\n",
    "```\n",
    "def get_stats(numbers)\n",
    "```\n",
    "that, given a list of `numbers` should return a tuple with the mean and standard-deviation value of the population of said list.\n",
    "\n",
    "For example:\n",
    "```\n",
    "[In]: get_stats([1, 10, 5.5, 1.2, -4.2])\n",
    "[Out]: (2.7, 4.7724207693789955)\n",
    "```\n",
    "\n",
    "Assume that:\n",
    "- the length of `numbers` is non-empty and at most 10^5\n",
    "- each N in `numbers` is an integer or float within [-10^5, 10^5]\n",
    "- **you use the std formula for the population (N) and not the sample (N-1)**"
   ]
  },
  {
   "cell_type": "code",
   "execution_count": 8,
   "id": "3c5bb2c7",
   "metadata": {},
   "outputs": [],
   "source": [
    "def get_stats(numbers):\n",
    "\tmean=sum(numbers)/len(numbers)\n",
    "\tsoma=0\n",
    "\tfor i in numbers:\n",
    "\t\tsoma+=(i-mean)**2\n",
    "\tfrom math import sqrt\n",
    "\tstd=sqrt(soma/len(numbers))\n",
    "\treturn (mean,std)"
   ]
  },
  {
   "cell_type": "markdown",
   "id": "eb453191",
   "metadata": {},
   "source": [
    "---\n",
    "Q8 [1.0p]: Create the function:\n",
    "```\n",
    "def max_one_digit(integers)\n",
    "```\n",
    "that, given a list `integers` consisting of N integers, returns the maximum among all one-digit integers.\n",
    "\n",
    "For example:\n",
    "```\n",
    "[In]: max_one_digit([-6, -91, 1011, -100, 84, -22, 0, 1, 473])\n",
    "[Out]: 1\n",
    "```\n",
    "\n",
    "Assume that:\n",
    "- the length of `integers` is non-empty and at most 10^5\n",
    "- each N in `integers` is an integer within [-10^5, 10^5]\n",
    "- there is at least one element in the list with 1 digit"
   ]
  },
  {
   "cell_type": "code",
   "execution_count": 9,
   "id": "d456347e",
   "metadata": {},
   "outputs": [],
   "source": [
    "def max_one_digit(integers):\n",
    "    return max(list(filter(lambda x: x<10, integers)))"
   ]
  },
  {
   "cell_type": "markdown",
   "id": "a7308c5d",
   "metadata": {},
   "source": [
    "---\n",
    "Q9 [1.0p]: Create the function:\n",
    "```\n",
    "def count_digits(numbers, start, stop)\n",
    "```\n",
    "that counts the number of digits in a subset of a list, given the following arguments:\n",
    "- `numbers`: list of integer numbers\n",
    "- `start`: start index of the subset (inclusive).\n",
    "- `stop`: final index of the subset (inclusive)\n",
    "\n",
    "For example:\n",
    "```\n",
    "[In]: count_digits(numbers=[10, -2, 0, 5, 20, 15, 18, 1], start=2, stop=4)\n",
    "[Out]: 4\n",
    "```\n",
    "The function should output the following:\n",
    "\n",
    "The function starts by selecting a subset of the list between the seconds and fourth indexes (`[0, 5, 20]`) and then sums the number of digits in the subset (`1 + 1 + 2`) which results in `4`.\n",
    "\n",
    "Assume that:\n",
    "- the length of `numbers` is non-empty and at most 10^5\n",
    "- each N in `numbers` is an integer within [-10^5, 10^5]\n",
    "- the `start` is non-empty integer within [0, 10^5]\n",
    "- the `stop` is non-empty integer within [0, 10^5]\n",
    "- `stop` > `start` stop\n",
    "- `stop` <= `len(numbers)-1`"
   ]
  },
  {
   "cell_type": "code",
   "execution_count": 10,
   "id": "05388b07",
   "metadata": {},
   "outputs": [],
   "source": [
    "def count_digits(numbers, start, stop):\n",
    "    subset = numbers[start:stop+1]\n",
    "    digit_count = 0\n",
    "    for num in subset:\n",
    "        digit_count += len(str(abs(num))) #abs removes possible minus so it doesn't add a character\n",
    "    return digit_count"
   ]
  },
  {
   "cell_type": "markdown",
   "id": "d804a774",
   "metadata": {},
   "source": [
    "---\n",
    "Q10 [1.0p]: Create the function:\n",
    "```\n",
    "def xsort(numbers)\n",
    "```\n",
    "that, given a list of integer `numbers` returns a new list, following these rules:\n",
    "1. Sorts from higher to lower (desc)\n",
    "2. Sums each element with the previous one\n",
    "3. Returns the new list\n",
    "\n",
    "For example:\n",
    "\n",
    "```\n",
    "[In]: xsort([2, 3, 1, 5])\n",
    "[Out]: [5, 8, 5, 3]\n",
    "```\n",
    "1. In this case, we start by sorting the input (desc): `[5, 3, 2, 1]`\n",
    "2. Sum N with N-1: `[5+0, 3+5, 2+3, 1+2]`. Notice that you should not sum anything to the first element.\n",
    "3. Return the new list: `[5, 8, 5, 3]`\n",
    "\n",
    "Assume that:\n",
    "- the length of `numbers` is non-empty and at most 10^5\n",
    "- each N in `numbers` is an integer within [-10^5, 10^5]"
   ]
  },
  {
   "cell_type": "code",
   "execution_count": 11,
   "id": "7176595d",
   "metadata": {},
   "outputs": [],
   "source": [
    "def xsort(numbers):\n",
    "    numbers = sorted(numbers, reverse=True)\n",
    "    final = []\n",
    "    sumdg = 0\n",
    "    for i in range(1, len(numbers)):\n",
    "        sumdg += numbers[i] + numbers[i-1]\n",
    "        final.append(sumdg)\n",
    "        # reset the sum of the digits so it doesn't keep adding\n",
    "        sumdg = 0\n",
    "    return [numbers[0]] + final"
   ]
  },
  {
   "cell_type": "markdown",
   "id": "5b989510",
   "metadata": {},
   "source": [
    "---\n",
    "Q11 [1.0p]: Create the function:\n",
    "```\n",
    "def difference_in_days(start_date, end_date)\n",
    "```\n",
    "that, given a string `start_date` and a string `end_date`, computes and returns an integer that is the difference in days between the two dates. For this exercise, we will include the end date in calculation (add 1 day).<br>\n",
    "Note that the inputs are both strings in format `year-month-day`, e.g. `2023-01-25` is 25 January 2023. \n",
    "\n",
    "For example:\n",
    "```\n",
    "[In]: difference_in_days(\"2023-01-01\", \"2023-01-05\")\n",
    "[Out]: 5\n",
    "```\n",
    "In the previous example, 5 days elapsed between the January 5 (inclusive) and January 1 (inclusive).<br>\n",
    "Let's take a look at a different example:\n",
    "```\n",
    "[In]: difference_in_days(\"2023-02-10\", \"2023-03-10\")\n",
    "[Out]: 29\n",
    "```\n",
    "\n",
    "Assume that:\n",
    "- both `start_date` and `end_date` are non-empty strings\n",
    "- the `end_date` is always after or equal to the `start_date`\n",
    "- both dates are in format `year-month-day`, e.g. `2023-01-25`\n",
    "- the year in both strings has 4 digits\n",
    "- the month in both strings has 2 digits\n",
    "- the day in both strings has 2 digits"
   ]
  },
  {
   "cell_type": "code",
   "execution_count": 12,
   "id": "20c75736",
   "metadata": {},
   "outputs": [],
   "source": [
    "from datetime import datetime\n",
    "\n",
    "def is_leap_year(year):\n",
    "    return year % 4 == 0 and (year % 100 != 0 or year % 400 == 0)\n",
    "\n",
    "def difference_in_days(start_date, end_date):\n",
    "    \n",
    "    # parse the start and end dates using datetime.strptime\n",
    "    start = datetime.strptime(start_date, '%Y-%m-%d')\n",
    "    end = datetime.strptime(end_date, '%Y-%m-%d')\n",
    "    \n",
    "    # difference between end and start dates using .days method \n",
    "    days = (end - start).days\n",
    "    \n",
    "    # count the number of leap years between start and end years. Then sum them up\n",
    "    leap_days = sum(1 for year in range(start.year, end.year+1) if is_leap_year(year))\n",
    "    return days + leap_days + 1"
   ]
  },
  {
   "cell_type": "markdown",
   "id": "48e72891",
   "metadata": {},
   "source": [
    "---\n",
    "Q12 [1.5p]: Create the function:\n",
    "\n",
    "```\n",
    "def common_chars(str1, str2)\n",
    "```\n",
    "\n",
    "that, given two strings `str1` and `str2`, returns a new string that contains all the characters that appear in both strings. The returned string should not contain duplicate characters, and the characters should appear in the same order as they appear in the first string.\n",
    "\n",
    "For example:\n",
    "```\n",
    "[In]: common_chars(\"hello\", \"world\")\n",
    "[Out]: \"lo\"\n",
    "```\n",
    "In this case, the characters that appear in both \"hello\" and \"world\" are \"l\" and \"o\". The returned string should not contain duplicate characters, so the final result is \"lo\".\n",
    "\n",
    "Be aware that strings may have varied lengths and, or cases, for example:\n",
    "```\n",
    "[In]: common_chars(\"I'm 10 years old, how about you?\", \"I'm 12!\")\n",
    "[Out]: \"I'm 1\"\n",
    "```\n",
    "\n",
    "Assume that:\n",
    "- `str1` and `str2` are non-empty strings\n",
    "- the characters in `str1` and `str2` are ASCII characters (i.e., their ordinal values are between 0 and 127). That includes numbers and punctuation, for example\n",
    "- uppercase and lowercase characters account for different chars. Char `A` is different than `a`, for example\n",
    "- the strings may have no chars in common"
   ]
  },
  {
   "cell_type": "code",
   "execution_count": 13,
   "id": "411ec554",
   "metadata": {},
   "outputs": [],
   "source": [
    "def common_chars(str1, str2):\n",
    "    string = ''\n",
    "    for i in str1:\n",
    "        \n",
    "        # checks if character is present in str2 and hasn't already been added to the output string\n",
    "        if i in str2 and i not in string:\n",
    "            \n",
    "            # if character is common to both strings and has not already been added, then add\n",
    "            string += i\n",
    "    return string"
   ]
  },
  {
   "cell_type": "markdown",
   "id": "957d137f",
   "metadata": {},
   "source": [
    "---\n",
    "Q13 [1.5p]: Create the function:\n",
    "```\n",
    "def find_duplicates(nums)\n",
    "```\n",
    "that, given a list of integers `nums`, returns a list of all integers that appear more than once in the list, sorted from smallest to highest.\n",
    "\n",
    "For example:\n",
    "```\n",
    "[In]: find_duplicates([4, 3, 2, 7, 8, 2, 3, 1])\n",
    "[Out]: [2, 3]\n",
    "```\n",
    "In this case, the integers 2 and 3 appear more than once in the list, so they are included in the output list.\n",
    "\n",
    "Assume that:\n",
    "- the length of `nums` is non-empty and at most 10^5\n",
    "- each N in `nums` is an integer within [-10^5, 10^5]"
   ]
  },
  {
   "cell_type": "code",
   "execution_count": 14,
   "id": "a324f342",
   "metadata": {},
   "outputs": [],
   "source": [
    "#def find_duplicates_cheese(nums):\n",
    "    #return list(set([new for new in nums if nums.count(new) > 1]))\n",
    "\n",
    "def find_duplicates(nums):\n",
    "    unique_nums = set()\n",
    "    duplicates = set()\n",
    "    for num in nums:\n",
    "        if num in unique_nums:\n",
    "            duplicates.add(num)\n",
    "        else:\n",
    "            unique_nums.add(num)\n",
    "    return sorted(list(duplicates))"
   ]
  },
  {
   "cell_type": "markdown",
   "id": "27308c64",
   "metadata": {},
   "source": [
    "## Part II - K-Means from scratch! [10.0p]\n",
    "\n",
    "K-Means is one of the most popular \"clustering\" algorithms, which you perhaps are already familiar with from Data Mining or Machine Learning curricular units. K-means estimates the location of $k$ centroids that represent the typical value in each cluster. In that sense, an observation is considered to be part of a particular cluster if it is closer to that cluster's centroid than to any other centroid.\n",
    "\n",
    "The K-means algorithm is iterative and can be summarized as follows:\n",
    "1. Start by choosing value K (number of clusters) that defines the number of clusters;\n",
    "2. Initialize the locations of the centroids, which we can do by randomly selecting K points from your dataset as initial locations of the centroids;\n",
    "3. Calculate the distance of all other points to each of the K centroids;\n",
    "4. Associate each point to the cluster of the closest centroid;\n",
    "5. Update the centroid position, by computing the average coordinates of all points assigned to each cluster;\n",
    "6. Evaluate the average change in the positions of the centroids, as a measure of convergence (we assume the algorithm converged to the solution when the positions of the centroids don't change more than a given tolerance threshold);\n",
    "7. Repeat steps 3-6 until either the centroids no longer move more than a tolerance threshold or until you repeated these steps at least for a specified number of iterations (niter)\n",
    "\n",
    "The algorithm is thus parameterized by the number of clusters (K), the maximum number of iterations (niter), and the tolerance threshold (tol).\n",
    "\n",
    "**Important keywords:**\n",
    "- **points**: data point coordinates `(e.g.: [[0, 0.9], [0.3, 0.5], [0.8, 0.75], [0.1, 0.1]])`\n",
    "- **centroids**: center of each cluster `(e.g.: [[0.5, 0.5], [0.8, 0.9]])`\n",
    "- **clusters**: cluster index of each point `(e.g.: [0, 0, 1, 0])`\n",
    "\n",
    "**Relevant notes:**<br>\n",
    "We must devise a strategy to test our code at each step, to assess if it performs as expected. To that end, we have split each step of the algorithm into different blocks, and we ask you to test each block against a simple scenario where the outcome is predictable and can be computed by hand. In some steps, however, we want to pass a more comprehensive dataset with similar properties to the real dataset that we will be working with.<br>\n",
    "\n",
    "Such, test datasets try to create realistic conditions in which your algorithm is expected to work correctly, and for which we can also assess if the solution matches our expectations. This allows us to have a general understanding of the algorithm performs as expected in \"real-world\" conditions."
   ]
  },
  {
   "cell_type": "markdown",
   "id": "567bd018",
   "metadata": {},
   "source": [
    "### Get data\n",
    "\n",
    "For this assignment, we will resort to a dataset that contains two distinct clusters. We generated the clusters by sampling points from two distinct gaussian distributions with different averages and the same standard deviation. <br>\n",
    "As such, our algorithm should be able to identify each cluster easily and place the centroids close to the averages of the two distributions. <br>\n",
    "\n",
    "Run the cell below to download, and visualize your Test dataset.<br>\n",
    "We will use this dataset to evaluate your code."
   ]
  },
  {
   "cell_type": "code",
   "execution_count": 15,
   "id": "5ba89275",
   "metadata": {
    "tags": []
   },
   "outputs": [],
   "source": [
    "import pandas as pd\n",
    "import matplotlib.pyplot as plt\n",
    "\n",
    "test_data = pd.read_csv(\n",
    "    \"https://www.dropbox.com/s/gax1l68jsarxqt9/data_test.txt?dl=1\",\n",
    "    header=None\n",
    ").values.tolist()"
   ]
  },
  {
   "cell_type": "code",
   "execution_count": 16,
   "id": "c700f11c",
   "metadata": {
    "tags": []
   },
   "outputs": [
    {
     "data": {
      "image/png": "[encoded data removed]",
      "text/plain": [
       "<Figure size 640x480 with 1 Axes>"
      ]
     },
     "metadata": {},
     "output_type": "display_data"
    }
   ],
   "source": [
    "# Visualize\n",
    "plt.scatter(\n",
    "    x=list(map(lambda x: x[0], test_data)),\n",
    "    y=list(map(lambda x: x[1], test_data)),\n",
    "    color ='k',\n",
    "    s=5\n",
    ")\n",
    "plt.show()"
   ]
  },
  {
   "cell_type": "markdown",
   "id": "222afc41",
   "metadata": {},
   "source": [
    "### Step 1: Seeds (initial centroids) [1.0p]\n",
    "\n",
    "Write the function:\n",
    "```\n",
    "def get_seeds(points, k)\n",
    "```\n",
    "that, given a list of points `points`, and the number of centroids `k`, returns a list with `k` elements **sampled randomly and without replacement** from `points`. Without replacement means that the same point cannot be picked twice.\n",
    "\n",
    "For example:\n",
    "```\n",
    "[in]: get_seeds(points=[[1, 1], [2, 2], [3, 3], [4, 4], [5, 5]], k=2)\n",
    "[out]: [[1, 1], [5, 5]]\n",
    "```"
   ]
  },
  {
   "cell_type": "code",
   "execution_count": 17,
   "id": "b04aa337",
   "metadata": {},
   "outputs": [],
   "source": [
    "def get_seeds(points, k):\n",
    "    from random import sample\n",
    "    return sample(points, k)"
   ]
  },
  {
   "cell_type": "markdown",
   "id": "cdac0cc5",
   "metadata": {},
   "source": [
    "### Step 2: Distance [1.5p]\n",
    "\n",
    "Create the function:\n",
    "```\n",
    "def euclidean_distance(p1, p2)\n",
    "```\n",
    "That, given two points pf coordinates `p1` and `p2`, computes the euclidean distance between them.\n",
    "\n",
    "Recall that the euclidian distance (d) between two points (`p1` and `p2`) in a 2-dimensional space is given by:<br><br>\n",
    "\\begin{equation}\n",
    "    d(p1, p2) = \\sqrt{(x1-x2)^2 + (y1-y2)^2}\n",
    "\\end{equation}\n",
    "\n",
    "where $p_1 = (x1,y1)$ and  $p2 = (x2,y2)$.\n",
    "\n",
    "For example:\n",
    "```\n",
    "[In]: euclidean_distance(p1=[1, 3], p2=[7, 2])\n",
    "[Out]: 6.082762530298219\n",
    "```\n",
    "---\n",
    "\n",
    "**BONUS POINTS [0.5p]**<br>\n",
    "- Skip it if you don't know or don't have time\n",
    "- The bonus points (0.5) will only stack to your grade if your HW grade < 20.\n",
    "\n",
    "Adapt your `euclidean_distance` function to compute the euclidean distance between two points of arbitrary dimension. In general, for arbitrary dimensionality, the square of the distance can be computed as:\n",
    "\\begin{equation}\n",
    "    d(p1, p2) = \\sqrt{\\sum_{i=0}^{D} (xi-yi)^2}\n",
    "\\end{equation}\n",
    "where $p1 = (x1,x2,...,x_{D-1}, x_D)$ and $p_2 = (y1,y2,...,y_{D-1},y_D)$.\n",
    "\n",
    "For example:\n",
    "```\n",
    "[In]: euclidean_distance_complex(p1=[1, 3, -9, 12], p2=[7, 2, 0, 5])\n",
    "[Out]: 12.922847983320086\n",
    "```"
   ]
  },
  {
   "cell_type": "code",
   "execution_count": 18,
   "id": "e3aebc1e",
   "metadata": {
    "tags": []
   },
   "outputs": [],
   "source": [
    "from math import sqrt\n",
    "\n",
    "def euclidean_distance(p1, p2):\n",
    "    return sqrt((p1[0]-p2[0])**2 + (p1[1]-p2[1])**2)\n",
    "\n",
    "\n",
    "def euclidean_distance_complex(p1,p2):\n",
    "    soma=0\n",
    "    for i in range(len(p1)):\n",
    "        soma+=(p1[i]-p2[i])**2\n",
    "    return sqrt(soma)"
   ]
  },
  {
   "cell_type": "markdown",
   "id": "728b63a6",
   "metadata": {},
   "source": [
    "### Step 3 Centroids [2.0p]\n",
    "\n",
    "Write the function:\n",
    "```\n",
    "def get_centroids(points, clusters)\n",
    "```\n",
    "That, given the following arguments:\n",
    "- `points`: List of lists, where each list is a set of coordinates for each row (1 point per row).\n",
    "- `clusters`: a 1-dimensional list that indicates the cluster to which each point is associated.\n",
    "returns a list with the mean coordinates of the points associated with each cluster. This will represent the centroid of each cluster. The returned list should have the same number of columns as points, and rows as the length of k.\n",
    "\n",
    "For example:\n",
    "```\n",
    "[In]: points = [[0.5, 0.6], [0.8, 0.4], [1.0, 1.0]]  # 3 sets of points\n",
    "[In]: clusters = [0, 0, 1]  # cluster 0, cluster 0, and cluster 1\n",
    "[In]: k = 2  # 2 clusters\n",
    "[In]: get_centroids(points, clusters, k)\n",
    "\n",
    "[Out]: [[0.65, 0.5], [1.  , 1.  ]]\n",
    "```\n",
    "In this example, the centroid of cluster 0 is computed as: [(0.5 + 0.8)/2, (0.6+0.4)/2] = [0.65, 0.5]. <br>\n",
    "In the case of cluster 1: [1, 1]\n",
    "\n",
    "Assume that:\n",
    "- the values in `clusters` are integers and within [0, k-1]"
   ]
  },
  {
   "cell_type": "code",
   "execution_count": 19,
   "id": "b1525334",
   "metadata": {
    "tags": []
   },
   "outputs": [],
   "source": [
    "def get_centroids(points, clusters, k):\n",
    "    centroids = [] \n",
    "    for i in range(k):  # loop through each cluster (0 to k-1)\n",
    "        # gets all points that belong to the current cluster\n",
    "        cluster_points = [points[j] for j in range(len(points)) if clusters[j] == i]\n",
    "        \n",
    "        # centroid of the current cluster\n",
    "        centroid = [sum(x)/len(x) for x in zip(*cluster_points)]\n",
    "        \n",
    "        centroids.append(centroid) \n",
    "    return centroids"
   ]
  },
  {
   "cell_type": "markdown",
   "id": "e9232191",
   "metadata": {},
   "source": [
    "### Step 4: Clusters [2.0p]\n",
    "\n",
    "Write the function:\n",
    "```\n",
    "def get_clusters(points, centroids)\n",
    "```\n",
    "That, given a list of `points` and a list of `centroids`, returns a one-dimensional list that indicates the index of the closest centroid to each point. To determine the distance between a point and a centroid, you can use your euclidean distance function created earlier **(step 3)**.\n",
    "\n",
    "You will need to compute the distance between each point to each centroid. Different approaches can be taken to do this. *(e.g. you can start by computing a d by k distance matrix matrix between each of the $d$ points and the $k$ centroids.)*\n",
    "\n",
    "For example:\n",
    "```\n",
    "[In]: get_clusters(points=[[1,1], [2, 2], [3, 3], [4, 4], [5, 5]], centroids=[[1.5, 1.5], [4.5, 4.5]])\n",
    "[Out]: [0, 0, 0, 1, 1]\n",
    "```\n",
    "\n",
    "In this example, we have 5-point coordinates and two clusters (2 centroids). <br>\n",
    "For the first point, the distance between `[1, 1]` and centroid 0 (`[1.5, 1.5]`) is ~0.71 while the distance to centroid 1 (`[4.5, 4.5]`) is ~4.95. Therefore, point `[1, 1]` is closer to centroid 0, so its assigned cluster will be cluster 0.<br>\n",
    "The same logic is applied to the remaining points."
   ]
  },
  {
   "cell_type": "code",
   "execution_count": 20,
   "id": "c6f815fa",
   "metadata": {
    "tags": []
   },
   "outputs": [],
   "source": [
    "def get_clusters(points, centroids):\n",
    "    \n",
    "    clusters = []\n",
    "    \n",
    "    for point in points:\n",
    "        min_distance = float(\"inf\") #infinity guaranteed to be larger than any possible distance\n",
    "        min_cluster = None #this will indicate that we haven't found the closest cluster yet\n",
    "        \n",
    "        # iterate over each centroid and find the closest one to the point\n",
    "        for i, centroid in enumerate(centroids):\n",
    "            \n",
    "            # compute the distance between the point and the centroid\n",
    "            dist = euclidean_distance(point, centroid)\n",
    "            \n",
    "            # update the minimum distance and cluster index if a closer centroid is found\n",
    "            if dist < min_distance:\n",
    "                min_distance = dist\n",
    "                min_cluster = i\n",
    "\n",
    "        clusters.append(min_cluster)\n",
    "    return clusters"
   ]
  },
  {
   "cell_type": "markdown",
   "id": "49ab56a7",
   "metadata": {},
   "source": [
    "### Step 5: Error [1.5p]\n",
    "\n",
    "Write the function:\n",
    "```\n",
    "def get_error(old_centroids, new_centroids)\n",
    "```\n",
    "That takes two input arguments:\n",
    "- `old_centroids`: list with centroid positions from the previous iteration (iteration N-1).\n",
    "- `new_centroids`: list with new computed centroid positions from the current iteration (iteration N).\n",
    "\n",
    "The function should return the average euclidean distance between the old and new positions of each centroid.\n",
    "\n",
    "This will give us a measure of whether our algorithm is still converging to the solution or got too good for approximation. \n",
    "\n",
    "We will use a tolerance threshold in the average change in the position of the centroids to make this decision.\n",
    "\n",
    "**To get new centroids, you must use the `get_centroids` function (from Step 4) and apply it to the `new_clusters` (from Step 5)**\n",
    "\n",
    "**Test your function using the `centroids` obtained in Step 4 as `old_centroids`, and the function `get_centroids` to calculate new centers for the `new_centroids` argument. Save the output in a variable called `average_error` and display it.**\n",
    "\n",
    "For example:\n",
    "```\n",
    "[In]: get_error(old_centroids=[[0.5, 0.3], [0.6, 0.7]], new_centroids=[[0.55, 0.5], [0.7, 0.7]])\n",
    "[Out]: 0.15307764064044152\n",
    "\n",
    "```\n",
    "In this example, the old centroids of clusters 1 and 2 are, respectively, [0.5, 0.3] and [0.6, 0.7]. The new centroids of clusters 1 and 2, respectively, are [0.55, 0.5] and [0.7, 0.7].  This means the error/distance between the old and new centroids for cluster 1 is ~0.2061 and for cluster 2 is ~0.0999. The average of these values is 0.153."
   ]
  },
  {
   "cell_type": "code",
   "execution_count": 21,
   "id": "a7ca84a6",
   "metadata": {
    "tags": []
   },
   "outputs": [
    {
     "name": "stdout",
     "output_type": "stream",
     "text": [
      "0.24825266489501877\n"
     ]
    }
   ],
   "source": [
    "def get_error(old_centroids, new_centroids):\n",
    "    total_error = 0\n",
    "    for i in range(len(old_centroids)):\n",
    "        old_centroid = old_centroids[i]\n",
    "        new_centroid = new_centroids[i]\n",
    "        dist = euclidean_distance(old_centroid, new_centroid)\n",
    "        total_error += dist\n",
    "    return total_error / len(old_centroids)\n",
    "\n",
    "points =[[0.5, 0.6], [0.8, 0.4], [1.0, 1.0]]  # 3 sets of points\n",
    "clusters = [0, 0, 1]  # cluster 0, cluster 0, and cluster 1\n",
    "k = 2  # 2 clusters\n",
    "\n",
    "old_centroids = [[0.5, 0.3], [0.6, 0.7]]\n",
    "new_clusters = get_clusters(points, old_centroids)\n",
    "new_centroids = get_centroids(points, new_clusters, k)\n",
    "average_error = get_error(old_centroids, new_centroids)\n",
    "print(average_error)"
   ]
  },
  {
   "cell_type": "markdown",
   "id": "706270ba",
   "metadata": {},
   "source": [
    "### Step 6: Wrap it up [2.0p]\n",
    "\n",
    "You're almost there! Wrap everything up in a function called:\n",
    "```\n",
    "def kmeans(points, k, n_iter, tol)\n",
    "```\n",
    "That takes the following arguments:\n",
    "- `points`: list of point coordinates\n",
    "- `k`: number of clusters, **default should be 2**\n",
    "- `n_iter`: number of iterations to test, **default should be 100**\n",
    "- `tol`: error tolerance threshold below which your algorithm should stop, **default should be 0.00005**\n",
    "\n",
    "The function should return a tuple of two elements: `(clusters, location of centroids sorted)`. Be aware that it is expected that you change the default arguments of the function, as asked for in the arguments specification.\n",
    "\n",
    "You should use the previously created functions to achieve `kmeans`. The `n_iter` and `tol` arguments should serve as stoppers for your algorithm, this is, for example, if `n_iter=10` then your algorithm should be working during 10 iterations, trying to find the optimal cluster centroids. If `tol=0.005` then it means that, if the average error/distance between the old and new centroids is equal to or smaller than your defined tolerance threshold, the algorithm should stop. <br>\n",
    "In sum, the stopping criteria are as follows:\n",
    "- Your algorithm should stop if the error between old centroids and new centroids <= `tol`\n",
    "- Your algorithm should stop after `n_iter` interactions\n",
    "\n",
    "For example: \n",
    "```\n",
    "[In]: kmeans(points=[[0.5, 0.5], [1, 1], [2, 2],[3, 3]], k=2, n_iter=10, tol=0.1)\n",
    "[Out]: ([0, 0, 1, 1], [[0.75, 0.75], [2.5, 2.5]])\n",
    "```\n",
    "\n",
    "In this example, my final clusters are [0, 0, 1, 1], which state that:\n",
    "- points `[0.5, 0.5]` and `[1, 1]` belong to cluster 0\n",
    "- points `[2, 2]` and `[3, 3]` belong to cluster 1\n",
    "- the centroid of cluster 0 is `[0.75, 0.75]`\n",
    "- the centroid of cluster 1 is `[2.5, 2.5]`\n",
    "\n",
    "**NOTE!:** A common issue with K-Means is that empty clusters may be created, e.g., if there are 3 clusters and all points are closer to cluster 0 or cluster 1. In these cases, your code could raise errors when computing statistics such as cluster 2 centroids (which is empty). However, with the provided data, this should not happen and you don't need to implement anything to overcome this problem. If such a case arises, we recommend you re-run your code. **All clusters are expected to have, at least, 1 observation**.\n",
    "\n",
    "**Your `kmeans` function will be evaluated against the `test_data`, therefore, you should check that your code works against this data.**"
   ]
  },
  {
   "cell_type": "markdown",
   "id": "3a321482",
   "metadata": {},
   "source": [
    "\n",
    "**NOTE!:** A common issue with K-Means is that empty clusters may be created, e.g., if there are 3 clusters and all points are closer to cluster 0 or cluster 1. In these cases, your code could raise errors when computing statistics such as cluster 2 centroids (which is empty). However, with the provided data, this should not happen and you don't need to implement anything to overcome this problem. If such a case arises, we recommend you re-run your code. **All clusters are expected to have, at least, 1 observation**.\n",
    "\n",
    "**Your `kmeans` function will be evaluated against the `test_data`, therefore, you should check that your code works against this data.**"
   ]
  },
  {
   "cell_type": "code",
   "execution_count": 22,
   "id": "7d6b7742",
   "metadata": {
    "tags": []
   },
   "outputs": [],
   "source": [
    "def kmeans(points, k, n_iter, tol):\n",
    "    \"\"\"\n",
    "    K-Means clustering algorithm.\n",
    "\n",
    "    Args:\n",
    "    points: list of point coordinates\n",
    "    k: number of clusters\n",
    "    n_iter: maximum number of iterations to perform\n",
    "    tol: error tolerance threshold below which algorithm should stop\n",
    "\n",
    "    Returns:\n",
    "    A tuple of two elements: (clusters, location of centroids sorted)\n",
    "    \"\"\"\n",
    "\n",
    "    centroids = get_seeds(points, k) # get initial centroids\n",
    "\n",
    "    for i in range(n_iter): # run for n_iter iterations\n",
    "        old_centroids = centroids.copy() # save current centroids for error comparison later\n",
    "        clusters = get_clusters(points, centroids) # assign points to clusters based on current centroids\n",
    "        centroids = get_centroids(points, clusters, k) # compute new centroids based on assigned points\n",
    "        error = get_error(old_centroids, centroids) # compute error between old and new centroids\n",
    "        if error <= tol: # if error is below or equal to threshold, stop\n",
    "            break\n",
    "    centroids_sorted = sorted(centroids, key=lambda x: x[0]) # sort centroids by x coordinate\n",
    "    return (clusters, centroids_sorted) # return clusters and sorted centroids"
   ]
  },
  {
   "cell_type": "markdown",
   "id": "521e5b79",
   "metadata": {},
   "source": [
    "### Visualize clusters\n",
    "\n",
    "This segment allows you to visualize your work by visually displaying how your clustering algorithm `kmeans` was able to group observations into similar groups.\n",
    "\n",
    "<ins>It will not be taken into account for grading, however, it is not expected that errors will be raised. If they do so, a penalty will be applied.</ins> If you are having trouble, just leave this with the provided examples that work.\n",
    "\n",
    "The function `plot_clusters` takes three arguments:\n",
    "- `points`: list of point coordinates\n",
    "- `clusters`: 1-D list of assigned clusters (length = length of points)\n",
    "- `centroids`: ordered centroids of each cluster\n",
    "\n",
    "The code will plot all the points and then the respective cluster centroids with random colors."
   ]
  },
  {
   "cell_type": "code",
   "execution_count": 23,
   "id": "0a3d6515-525d-4cb2-82e2-f57ffd64d613",
   "metadata": {
    "tags": []
   },
   "outputs": [],
   "source": [
    "def plot_clusters(points, clusters, centroids):\n",
    "    \n",
    "    r = lambda: random.randint(0,255)\n",
    "    color_dict = {}\n",
    "    for cluster in range(len(centroids)):\n",
    "        color_dict[cluster] = str(\"#%02X%02X%02X\" % (r(),r(),r()))\n",
    "    \n",
    "    # Colors list\n",
    "    colors = list(map(lambda c: color_dict.get(c), clusters))\n",
    "    \n",
    "    # Plot points\n",
    "    points_in_cluster_indexes = list(filter(lambda c: c == cluster, clusters))\n",
    "    points_in_cluster = []\n",
    "    plt.scatter(\n",
    "        x=list(map(lambda x: x[0], points)),\n",
    "        y=list(map(lambda x: x[1], points)),\n",
    "        s=30,\n",
    "        color=colors\n",
    "    )\n",
    "        \n",
    "    # Plot centroids\n",
    "    plt.scatter(\n",
    "        x=list(map(lambda x: x[0], centroids)),\n",
    "        y=list(map(lambda x: x[1], centroids)),\n",
    "        s=100,\n",
    "        marker=\"x\",\n",
    "        linewidths=5,\n",
    "        color=\"black\"\n",
    "    )  \n",
    "    plt.show()"
   ]
  },
  {
   "cell_type": "markdown",
   "id": "905cfa77",
   "metadata": {},
   "source": [
    "Here's an example of how the plot works. "
   ]
  },
  {
   "cell_type": "code",
   "execution_count": 24,
   "id": "d0ce577f-87ca-47a7-9943-69a6130178ec",
   "metadata": {
    "tags": []
   },
   "outputs": [
    {
     "data": {
      "image/png": "[encoded data removed]",
      "text/plain": [
       "<Figure size 640x480 with 1 Axes>"
      ]
     },
     "metadata": {},
     "output_type": "display_data"
    }
   ],
   "source": [
    "test_visualization_points = [[0.89, 0.27], [0.34, 0.36], [0.33, 0.19], [0.67, 0.46], [0.73, 0.11], [0.41, 0.71], [0.8, 0.9], [0.68, 0.85], [0.36, 0.64], [0.07, 0.74]]\n",
    "test_visualization_clusters = [0, 0, 0, 0, 0, 1, 1, 1, 1, 1]\n",
    "test_visualization_centroids = [[0.592, 0.278], [0.464, 0.768]]\n",
    "\n",
    "plot_clusters(\n",
    "    points=test_visualization_points,\n",
    "    clusters=test_visualization_clusters,\n",
    "    centroids=test_visualization_centroids\n",
    ")"
   ]
  },
  {
   "cell_type": "markdown",
   "id": "9dd64e36",
   "metadata": {},
   "source": [
    "Test your `kmeans` function by calling it against the `test_data` and saving the returned clusters and centroids. Check how the clusters behave. You should have two very distinct groups."
   ]
  },
  {
   "cell_type": "code",
   "execution_count": 25,
   "id": "a033267c",
   "metadata": {},
   "outputs": [
    {
     "data": {
      "image/png": "[encoded data removed]",
      "text/plain": [
       "<Figure size 640x480 with 1 Axes>"
      ]
     },
     "metadata": {},
     "output_type": "display_data"
    }
   ],
   "source": [
    "test_visualization_points = test_data\n",
    "test_visualization_clusters = kmeans(test_data, 2, 20, 0.00005)[0]\n",
    "test_visualization_centroids = kmeans(test_data, 2, 20, 0.00005)[1]\n",
    "\n",
    "\n",
    "plot_clusters(\n",
    "    points=test_visualization_points,\n",
    "    clusters=test_visualization_clusters,\n",
    "    centroids=test_visualization_centroids\n",
    ")"
   ]
  },
  {
   "cell_type": "code",
   "execution_count": 26,
   "id": "1440656f",
   "metadata": {},
   "outputs": [
    {
     "data": {
      "image/png": "[encoded data removed]",
      "text/plain": [
       "<Figure size 640x480 with 1 Axes>"
      ]
     },
     "metadata": {},
     "output_type": "display_data"
    }
   ],
   "source": [
    "test_visualization_points = test_data\n",
    "test_visualization_clusters = kmeans(test_data, 2, 100, 0.0005)[0]\n",
    "test_visualization_centroids = kmeans(test_data, 2, 100, 0.0005)[1]\n",
    "\n",
    "\n",
    "plot_clusters(\n",
    "    points=test_visualization_points,\n",
    "    clusters=test_visualization_clusters,\n",
    "    centroids=test_visualization_centroids\n",
    ")"
   ]
  },
  {
   "cell_type": "code",
   "execution_count": null,
   "id": "aa97f4c2",
   "metadata": {},
   "outputs": [],
   "source": []
  }
 ],
 "metadata": {
  "kernelspec": {
   "display_name": "Python 3 (ipykernel)",
   "language": "python",
   "name": "python3"
  },
  "language_info": {
   "codemirror_mode": {
    "name": "ipython",
    "version": 3
   },
   "file_extension": ".py",
   "mimetype": "text/x-python",
   "name": "python",
   "nbconvert_exporter": "python",
   "pygments_lexer": "ipython3",
   "version": "3.9.13"
  }
 },
 "nbformat": 4,
 "nbformat_minor": 5
}
